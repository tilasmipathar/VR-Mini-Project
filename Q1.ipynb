{
  "nbformat": 4,
  "nbformat_minor": 0,
  "metadata": {
    "colab": {
      "provenance": []
    },
    "kernelspec": {
      "name": "python3",
      "display_name": "Python 3"
    },
    "language_info": {
      "name": "python"
    },
    "accelerator": "GPU",
    "gpuClass": "standard",
    "widgets": {
      "application/vnd.jupyter.widget-state+json": {
        "a996572d5fb0439695351f0101fc7ec9": {
          "model_module": "@jupyter-widgets/controls",
          "model_name": "HBoxModel",
          "model_module_version": "1.5.0",
          "state": {
            "_dom_classes": [],
            "_model_module": "@jupyter-widgets/controls",
            "_model_module_version": "1.5.0",
            "_model_name": "HBoxModel",
            "_view_count": null,
            "_view_module": "@jupyter-widgets/controls",
            "_view_module_version": "1.5.0",
            "_view_name": "HBoxView",
            "box_style": "",
            "children": [
              "IPY_MODEL_0dc1e687f7914be69d031b3cd6f0d898",
              "IPY_MODEL_63f404f246cd4cb5b64e05fe5594ef95",
              "IPY_MODEL_21c68157f8bf4ffbba64739ddf535c0a"
            ],
            "layout": "IPY_MODEL_869b83ca81364973b89186c8fecada64"
          }
        },
        "0dc1e687f7914be69d031b3cd6f0d898": {
          "model_module": "@jupyter-widgets/controls",
          "model_name": "HTMLModel",
          "model_module_version": "1.5.0",
          "state": {
            "_dom_classes": [],
            "_model_module": "@jupyter-widgets/controls",
            "_model_module_version": "1.5.0",
            "_model_name": "HTMLModel",
            "_view_count": null,
            "_view_module": "@jupyter-widgets/controls",
            "_view_module_version": "1.5.0",
            "_view_name": "HTMLView",
            "description": "",
            "description_tooltip": null,
            "layout": "IPY_MODEL_8696bcfdad2543a0839790bf50cd2107",
            "placeholder": "​",
            "style": "IPY_MODEL_6cb435402d4340caa9f3fc6d761c48e7",
            "value": "100%"
          }
        },
        "63f404f246cd4cb5b64e05fe5594ef95": {
          "model_module": "@jupyter-widgets/controls",
          "model_name": "FloatProgressModel",
          "model_module_version": "1.5.0",
          "state": {
            "_dom_classes": [],
            "_model_module": "@jupyter-widgets/controls",
            "_model_module_version": "1.5.0",
            "_model_name": "FloatProgressModel",
            "_view_count": null,
            "_view_module": "@jupyter-widgets/controls",
            "_view_module_version": "1.5.0",
            "_view_name": "ProgressView",
            "bar_style": "success",
            "description": "",
            "description_tooltip": null,
            "layout": "IPY_MODEL_d062a0c26a5f4dc6874aabaab8afefe9",
            "max": 170498071,
            "min": 0,
            "orientation": "horizontal",
            "style": "IPY_MODEL_53060051a4c84400b7241617c825f25f",
            "value": 170498071
          }
        },
        "21c68157f8bf4ffbba64739ddf535c0a": {
          "model_module": "@jupyter-widgets/controls",
          "model_name": "HTMLModel",
          "model_module_version": "1.5.0",
          "state": {
            "_dom_classes": [],
            "_model_module": "@jupyter-widgets/controls",
            "_model_module_version": "1.5.0",
            "_model_name": "HTMLModel",
            "_view_count": null,
            "_view_module": "@jupyter-widgets/controls",
            "_view_module_version": "1.5.0",
            "_view_name": "HTMLView",
            "description": "",
            "description_tooltip": null,
            "layout": "IPY_MODEL_2c2887f2253f4005ae7dbd3b173a23c6",
            "placeholder": "​",
            "style": "IPY_MODEL_cf947083430945a48a26f8265d63eda2",
            "value": " 170498071/170498071 [00:13&lt;00:00, 15154582.54it/s]"
          }
        },
        "869b83ca81364973b89186c8fecada64": {
          "model_module": "@jupyter-widgets/base",
          "model_name": "LayoutModel",
          "model_module_version": "1.2.0",
          "state": {
            "_model_module": "@jupyter-widgets/base",
            "_model_module_version": "1.2.0",
            "_model_name": "LayoutModel",
            "_view_count": null,
            "_view_module": "@jupyter-widgets/base",
            "_view_module_version": "1.2.0",
            "_view_name": "LayoutView",
            "align_content": null,
            "align_items": null,
            "align_self": null,
            "border": null,
            "bottom": null,
            "display": null,
            "flex": null,
            "flex_flow": null,
            "grid_area": null,
            "grid_auto_columns": null,
            "grid_auto_flow": null,
            "grid_auto_rows": null,
            "grid_column": null,
            "grid_gap": null,
            "grid_row": null,
            "grid_template_areas": null,
            "grid_template_columns": null,
            "grid_template_rows": null,
            "height": null,
            "justify_content": null,
            "justify_items": null,
            "left": null,
            "margin": null,
            "max_height": null,
            "max_width": null,
            "min_height": null,
            "min_width": null,
            "object_fit": null,
            "object_position": null,
            "order": null,
            "overflow": null,
            "overflow_x": null,
            "overflow_y": null,
            "padding": null,
            "right": null,
            "top": null,
            "visibility": null,
            "width": null
          }
        },
        "8696bcfdad2543a0839790bf50cd2107": {
          "model_module": "@jupyter-widgets/base",
          "model_name": "LayoutModel",
          "model_module_version": "1.2.0",
          "state": {
            "_model_module": "@jupyter-widgets/base",
            "_model_module_version": "1.2.0",
            "_model_name": "LayoutModel",
            "_view_count": null,
            "_view_module": "@jupyter-widgets/base",
            "_view_module_version": "1.2.0",
            "_view_name": "LayoutView",
            "align_content": null,
            "align_items": null,
            "align_self": null,
            "border": null,
            "bottom": null,
            "display": null,
            "flex": null,
            "flex_flow": null,
            "grid_area": null,
            "grid_auto_columns": null,
            "grid_auto_flow": null,
            "grid_auto_rows": null,
            "grid_column": null,
            "grid_gap": null,
            "grid_row": null,
            "grid_template_areas": null,
            "grid_template_columns": null,
            "grid_template_rows": null,
            "height": null,
            "justify_content": null,
            "justify_items": null,
            "left": null,
            "margin": null,
            "max_height": null,
            "max_width": null,
            "min_height": null,
            "min_width": null,
            "object_fit": null,
            "object_position": null,
            "order": null,
            "overflow": null,
            "overflow_x": null,
            "overflow_y": null,
            "padding": null,
            "right": null,
            "top": null,
            "visibility": null,
            "width": null
          }
        },
        "6cb435402d4340caa9f3fc6d761c48e7": {
          "model_module": "@jupyter-widgets/controls",
          "model_name": "DescriptionStyleModel",
          "model_module_version": "1.5.0",
          "state": {
            "_model_module": "@jupyter-widgets/controls",
            "_model_module_version": "1.5.0",
            "_model_name": "DescriptionStyleModel",
            "_view_count": null,
            "_view_module": "@jupyter-widgets/base",
            "_view_module_version": "1.2.0",
            "_view_name": "StyleView",
            "description_width": ""
          }
        },
        "d062a0c26a5f4dc6874aabaab8afefe9": {
          "model_module": "@jupyter-widgets/base",
          "model_name": "LayoutModel",
          "model_module_version": "1.2.0",
          "state": {
            "_model_module": "@jupyter-widgets/base",
            "_model_module_version": "1.2.0",
            "_model_name": "LayoutModel",
            "_view_count": null,
            "_view_module": "@jupyter-widgets/base",
            "_view_module_version": "1.2.0",
            "_view_name": "LayoutView",
            "align_content": null,
            "align_items": null,
            "align_self": null,
            "border": null,
            "bottom": null,
            "display": null,
            "flex": null,
            "flex_flow": null,
            "grid_area": null,
            "grid_auto_columns": null,
            "grid_auto_flow": null,
            "grid_auto_rows": null,
            "grid_column": null,
            "grid_gap": null,
            "grid_row": null,
            "grid_template_areas": null,
            "grid_template_columns": null,
            "grid_template_rows": null,
            "height": null,
            "justify_content": null,
            "justify_items": null,
            "left": null,
            "margin": null,
            "max_height": null,
            "max_width": null,
            "min_height": null,
            "min_width": null,
            "object_fit": null,
            "object_position": null,
            "order": null,
            "overflow": null,
            "overflow_x": null,
            "overflow_y": null,
            "padding": null,
            "right": null,
            "top": null,
            "visibility": null,
            "width": null
          }
        },
        "53060051a4c84400b7241617c825f25f": {
          "model_module": "@jupyter-widgets/controls",
          "model_name": "ProgressStyleModel",
          "model_module_version": "1.5.0",
          "state": {
            "_model_module": "@jupyter-widgets/controls",
            "_model_module_version": "1.5.0",
            "_model_name": "ProgressStyleModel",
            "_view_count": null,
            "_view_module": "@jupyter-widgets/base",
            "_view_module_version": "1.2.0",
            "_view_name": "StyleView",
            "bar_color": null,
            "description_width": ""
          }
        },
        "2c2887f2253f4005ae7dbd3b173a23c6": {
          "model_module": "@jupyter-widgets/base",
          "model_name": "LayoutModel",
          "model_module_version": "1.2.0",
          "state": {
            "_model_module": "@jupyter-widgets/base",
            "_model_module_version": "1.2.0",
            "_model_name": "LayoutModel",
            "_view_count": null,
            "_view_module": "@jupyter-widgets/base",
            "_view_module_version": "1.2.0",
            "_view_name": "LayoutView",
            "align_content": null,
            "align_items": null,
            "align_self": null,
            "border": null,
            "bottom": null,
            "display": null,
            "flex": null,
            "flex_flow": null,
            "grid_area": null,
            "grid_auto_columns": null,
            "grid_auto_flow": null,
            "grid_auto_rows": null,
            "grid_column": null,
            "grid_gap": null,
            "grid_row": null,
            "grid_template_areas": null,
            "grid_template_columns": null,
            "grid_template_rows": null,
            "height": null,
            "justify_content": null,
            "justify_items": null,
            "left": null,
            "margin": null,
            "max_height": null,
            "max_width": null,
            "min_height": null,
            "min_width": null,
            "object_fit": null,
            "object_position": null,
            "order": null,
            "overflow": null,
            "overflow_x": null,
            "overflow_y": null,
            "padding": null,
            "right": null,
            "top": null,
            "visibility": null,
            "width": null
          }
        },
        "cf947083430945a48a26f8265d63eda2": {
          "model_module": "@jupyter-widgets/controls",
          "model_name": "DescriptionStyleModel",
          "model_module_version": "1.5.0",
          "state": {
            "_model_module": "@jupyter-widgets/controls",
            "_model_module_version": "1.5.0",
            "_model_name": "DescriptionStyleModel",
            "_view_count": null,
            "_view_module": "@jupyter-widgets/base",
            "_view_module_version": "1.2.0",
            "_view_name": "StyleView",
            "description_width": ""
          }
        }
      }
    }
  },
  "cells": [
    {
      "cell_type": "markdown",
      "source": [
        "## Importing Necessary Libraries"
      ],
      "metadata": {
        "id": "dByjxIeJx0yv"
      }
    },
    {
      "cell_type": "code",
      "source": [
        "import time\n",
        "import numpy as np\n",
        "import matplotlib.pyplot as plt\n",
        "import torch\n",
        "import torch.nn as nn\n",
        "import torch.optim as optim\n",
        "import torchvision.transforms as transforms\n",
        "import torchvision"
      ],
      "metadata": {
        "id": "fzIcU5hHNSRr"
      },
      "execution_count": 1,
      "outputs": []
    },
    {
      "cell_type": "markdown",
      "source": [
        "## Loading the CIFAR-10 dataset"
      ],
      "metadata": {
        "id": "OwXqRRShxrG3"
      }
    },
    {
      "cell_type": "code",
      "source": [
        "device = \"\"\n",
        "if torch.cuda.is_available(): device = \"cuda\"\n",
        "else: device = \"cpu\"\n",
        "\n",
        "print(\"device used :- \"+device)"
      ],
      "metadata": {
        "colab": {
          "base_uri": "https://localhost:8080/"
        },
        "id": "MS0lz3BBNgij",
        "outputId": "08cd4062-7903-4a96-c774-567a3a57400f"
      },
      "execution_count": 2,
      "outputs": [
        {
          "output_type": "stream",
          "name": "stdout",
          "text": [
            "device used :- cuda\n"
          ]
        }
      ]
    },
    {
      "cell_type": "code",
      "source": [
        "transform = transforms.Compose([\n",
        "    transforms.ToTensor(),\n",
        "    transforms.Normalize((0.5,0.5,0.5),(0.5,0.5,0.5))\n",
        "])\n",
        "\n",
        "train = torchvision.datasets.CIFAR10(root=\"./cifar10\",train=True,download=True,transform=transform)\n",
        "train_loader = torch.utils.data.DataLoader(train,batch_size=256,shuffle=True,num_workers = 4)\n",
        "\n",
        "test = torchvision.datasets.CIFAR10(root=\"./cifar10\",train=True,download=True,transform=transform)\n",
        "test_loader = torch.utils.data.DataLoader(test,batch_size=256,shuffle=False,num_workers = 4)"
      ],
      "metadata": {
        "colab": {
          "base_uri": "https://localhost:8080/",
          "height": 156,
          "referenced_widgets": [
            "a996572d5fb0439695351f0101fc7ec9",
            "0dc1e687f7914be69d031b3cd6f0d898",
            "63f404f246cd4cb5b64e05fe5594ef95",
            "21c68157f8bf4ffbba64739ddf535c0a",
            "869b83ca81364973b89186c8fecada64",
            "8696bcfdad2543a0839790bf50cd2107",
            "6cb435402d4340caa9f3fc6d761c48e7",
            "d062a0c26a5f4dc6874aabaab8afefe9",
            "53060051a4c84400b7241617c825f25f",
            "2c2887f2253f4005ae7dbd3b173a23c6",
            "cf947083430945a48a26f8265d63eda2"
          ]
        },
        "id": "uc0v_OmtNjDX",
        "outputId": "bc8b89de-d9da-493d-cfea-dece95f37230"
      },
      "execution_count": 3,
      "outputs": [
        {
          "output_type": "stream",
          "name": "stdout",
          "text": [
            "Downloading https://www.cs.toronto.edu/~kriz/cifar-10-python.tar.gz to ./cifar10/cifar-10-python.tar.gz\n"
          ]
        },
        {
          "output_type": "display_data",
          "data": {
            "text/plain": [
              "  0%|          | 0/170498071 [00:00<?, ?it/s]"
            ],
            "application/vnd.jupyter.widget-view+json": {
              "version_major": 2,
              "version_minor": 0,
              "model_id": "a996572d5fb0439695351f0101fc7ec9"
            }
          },
          "metadata": {}
        },
        {
          "output_type": "stream",
          "name": "stdout",
          "text": [
            "Extracting ./cifar10/cifar-10-python.tar.gz to ./cifar10\n"
          ]
        },
        {
          "output_type": "stream",
          "name": "stderr",
          "text": [
            "/usr/local/lib/python3.9/dist-packages/torch/utils/data/dataloader.py:554: UserWarning: This DataLoader will create 4 worker processes in total. Our suggested max number of worker in current system is 2, which is smaller than what this DataLoader is going to create. Please be aware that excessive worker creation might get DataLoader running slow or even freeze, lower the worker number to avoid potential slowness/freeze if necessary.\n",
            "  warnings.warn(_create_warning_msg(\n"
          ]
        },
        {
          "output_type": "stream",
          "name": "stdout",
          "text": [
            "Files already downloaded and verified\n"
          ]
        }
      ]
    },
    {
      "cell_type": "markdown",
      "source": [
        "## CNN with 2 convolutional layers and 2 FC layers"
      ],
      "metadata": {
        "id": "tgx55w_WyZ07"
      }
    },
    {
      "cell_type": "code",
      "source": [
        "class Cnn1_relu(nn.Module):\n",
        "    def __init__(self):\n",
        "        super(Cnn1_relu, self).__init__()\n",
        "        \n",
        "        self.network = nn.Sequential(\n",
        "            nn.Conv2d(3, 8, 5),\n",
        "            nn.ReLU(),\n",
        "            nn.MaxPool2d(2, 2),\n",
        "\n",
        "            nn.Conv2d(8,16,5),\n",
        "            nn.ReLU(),\n",
        "            nn.MaxPool2d(2, 2), \n",
        "\n",
        "            nn.Flatten(), \n",
        "            nn.Linear(16*5*5,128),\n",
        "            nn.ReLU(),\n",
        "            nn.Linear(128,10))\n",
        "        \n",
        "    def forward(self, x):\n",
        "        x = self.network(x)\n",
        "        return x\n",
        "\n",
        "class Cnn1_sigmoid(nn.Module):\n",
        "    def __init__(self):\n",
        "        super(Cnn1_sigmoid, self).__init__()\n",
        "        \n",
        "        self.network = nn.Sequential(\n",
        "            nn.Conv2d(3, 8, 5),\n",
        "            nn.Sigmoid(),\n",
        "            nn.MaxPool2d(2, 2),\n",
        "\n",
        "            nn.Conv2d(8,16,5),\n",
        "            nn.Sigmoid(),\n",
        "            nn.MaxPool2d(2, 2), \n",
        "\n",
        "            nn.Flatten(), \n",
        "            nn.Linear(16*5*5,128),\n",
        "            nn.Sigmoid(),\n",
        "            nn.Linear(128,10))\n",
        "        \n",
        "    def forward(self, x):\n",
        "        x = self.network(x)\n",
        "        return x\n",
        "\n",
        "class Cnn1_tanh(nn.Module):\n",
        "    def __init__(self):\n",
        "        super(Cnn1_tanh, self).__init__()\n",
        "        \n",
        "        self.network = nn.Sequential(\n",
        "            nn.Conv2d(3, 8, 5),\n",
        "            nn.Tanh(),\n",
        "            nn.MaxPool2d(2, 2),\n",
        "\n",
        "            nn.Conv2d(8,16,5),\n",
        "            nn.Tanh(),\n",
        "            nn.MaxPool2d(2, 2), \n",
        "\n",
        "            nn.Flatten(), \n",
        "            nn.Linear(16*5*5,128),\n",
        "            nn.Tanh(),\n",
        "            nn.Linear(128,10))\n",
        "        \n",
        "    def forward(self, x):\n",
        "        x = self.network(x)\n",
        "        return x\n",
        "\n",
        "Cnn1_relu()\n",
        "Cnn1_sigmoid()\n",
        "Cnn1_tanh()"
      ],
      "metadata": {
        "colab": {
          "base_uri": "https://localhost:8080/"
        },
        "id": "fTp2n2yFNlbb",
        "outputId": "e7d7e854-2ae2-48ae-b837-961ed9da4934"
      },
      "execution_count": 4,
      "outputs": [
        {
          "output_type": "execute_result",
          "data": {
            "text/plain": [
              "Cnn1_tanh(\n",
              "  (network): Sequential(\n",
              "    (0): Conv2d(3, 8, kernel_size=(5, 5), stride=(1, 1))\n",
              "    (1): Tanh()\n",
              "    (2): MaxPool2d(kernel_size=2, stride=2, padding=0, dilation=1, ceil_mode=False)\n",
              "    (3): Conv2d(8, 16, kernel_size=(5, 5), stride=(1, 1))\n",
              "    (4): Tanh()\n",
              "    (5): MaxPool2d(kernel_size=2, stride=2, padding=0, dilation=1, ceil_mode=False)\n",
              "    (6): Flatten(start_dim=1, end_dim=-1)\n",
              "    (7): Linear(in_features=400, out_features=128, bias=True)\n",
              "    (8): Tanh()\n",
              "    (9): Linear(in_features=128, out_features=10, bias=True)\n",
              "  )\n",
              ")"
            ]
          },
          "metadata": {},
          "execution_count": 4
        }
      ]
    },
    {
      "cell_type": "markdown",
      "source": [
        "## CNN with 3 convolutional layers and 2 FC layers"
      ],
      "metadata": {
        "id": "_bPNO5ZNyer_"
      }
    },
    {
      "cell_type": "code",
      "source": [
        "class Cnn2_relu(nn.Module):\n",
        "    def __init__(self):\n",
        "        super(Cnn2_relu, self).__init__()\n",
        "        \n",
        "        self.network = nn.Sequential(\n",
        "            nn.Conv2d(3, 8, kernel_size=5, stride=1, padding=1),\n",
        "            nn.ReLU(),\n",
        "            nn.MaxPool2d(2, 2), \n",
        "\n",
        "            nn.Conv2d(8, 16, kernel_size=5, stride=1, padding=1),\n",
        "            nn.ReLU(),\n",
        "            nn.MaxPool2d(2, 2), \n",
        "\n",
        "            nn.Conv2d(16, 32, kernel_size=5, stride=1, padding=1),\n",
        "            nn.ReLU(),\n",
        "            nn.MaxPool2d(2, 2), \n",
        "\n",
        "            nn.Flatten(), \n",
        "            nn.Linear(32*2*2,64),\n",
        "            nn.ReLU(),\n",
        "            nn.Linear(64,10))\n",
        "        \n",
        "    def forward(self, x):\n",
        "        x = self.network(x)\n",
        "        return x\n",
        "\n",
        "class Cnn2_sigmoid(nn.Module):\n",
        "    def __init__(self):\n",
        "        super(Cnn2_sigmoid, self).__init__()\n",
        "        \n",
        "        self.network = nn.Sequential(\n",
        "            nn.Conv2d(3, 8, kernel_size=5, stride=1, padding=1),\n",
        "            nn.Sigmoid(),\n",
        "            nn.MaxPool2d(2, 2), \n",
        "\n",
        "            nn.Conv2d(8, 16, kernel_size=5, stride=1, padding=1),\n",
        "            nn.Sigmoid(),\n",
        "            nn.MaxPool2d(2, 2), \n",
        "\n",
        "            nn.Conv2d(16, 32, kernel_size=5, stride=1, padding=1),\n",
        "            nn.Sigmoid(),\n",
        "            nn.MaxPool2d(2, 2), \n",
        "\n",
        "            nn.Flatten(), \n",
        "            nn.Linear(32*2*2,64),\n",
        "            nn.Sigmoid(),\n",
        "            nn.Linear(64,10))\n",
        "        \n",
        "    def forward(self, x):\n",
        "        x = self.network(x)\n",
        "        return x\n",
        "  \n",
        "class Cnn2_tanh(nn.Module):\n",
        "    def __init__(self):\n",
        "        super(Cnn2_tanh, self).__init__()\n",
        "        \n",
        "        self.network = nn.Sequential(\n",
        "            nn.Conv2d(3, 8, kernel_size=5, stride=1, padding=1),\n",
        "            nn.Tanh(),\n",
        "            nn.MaxPool2d(2, 2), \n",
        "\n",
        "            nn.Conv2d(8, 16, kernel_size=5, stride=1, padding=1),\n",
        "            nn.Tanh(),\n",
        "            nn.MaxPool2d(2, 2), \n",
        "\n",
        "            nn.Conv2d(16, 32, kernel_size=5, stride=1, padding=1),\n",
        "            nn.Tanh(),\n",
        "            nn.MaxPool2d(2, 2), \n",
        "\n",
        "            nn.Flatten(), \n",
        "            nn.Linear(32*2*2,64),\n",
        "            nn.Tanh(),\n",
        "            nn.Linear(64,10))\n",
        "        \n",
        "    def forward(self, x):\n",
        "        x = self.network(x)\n",
        "        return x\n",
        "\n",
        "Cnn2_relu()\n",
        "Cnn2_sigmoid()\n",
        "Cnn2_tanh()"
      ],
      "metadata": {
        "colab": {
          "base_uri": "https://localhost:8080/"
        },
        "id": "ko_5B0bvyk5s",
        "outputId": "47875378-7039-4baa-9dfc-c10a609933c9"
      },
      "execution_count": 53,
      "outputs": [
        {
          "output_type": "execute_result",
          "data": {
            "text/plain": [
              "Cnn2_tanh(\n",
              "  (network): Sequential(\n",
              "    (0): Conv2d(3, 8, kernel_size=(5, 5), stride=(1, 1), padding=(1, 1))\n",
              "    (1): Tanh()\n",
              "    (2): MaxPool2d(kernel_size=2, stride=2, padding=0, dilation=1, ceil_mode=False)\n",
              "    (3): Conv2d(8, 16, kernel_size=(5, 5), stride=(1, 1), padding=(1, 1))\n",
              "    (4): Tanh()\n",
              "    (5): MaxPool2d(kernel_size=2, stride=2, padding=0, dilation=1, ceil_mode=False)\n",
              "    (6): Conv2d(16, 32, kernel_size=(5, 5), stride=(1, 1), padding=(1, 1))\n",
              "    (7): Tanh()\n",
              "    (8): MaxPool2d(kernel_size=2, stride=2, padding=0, dilation=1, ceil_mode=False)\n",
              "    (9): Flatten(start_dim=1, end_dim=-1)\n",
              "    (10): Linear(in_features=128, out_features=64, bias=True)\n",
              "    (11): Tanh()\n",
              "    (12): Linear(in_features=64, out_features=10, bias=True)\n",
              "  )\n",
              ")"
            ]
          },
          "metadata": {},
          "execution_count": 53
        }
      ]
    },
    {
      "cell_type": "code",
      "source": [
        "cnn1_relu = Cnn1_relu().to(device)\n",
        "cnn2_relu = Cnn2_relu().to(device)\n",
        "cnn1_sigmoid = Cnn1_sigmoid().to(device)\n",
        "cnn2_sigmoid = Cnn2_sigmoid().to(device)\n",
        "cnn1_tanh = Cnn1_tanh().to(device)\n",
        "cnn2_tanh = Cnn2_tanh().to(device)"
      ],
      "metadata": {
        "id": "7ygJuFGsNpKu"
      },
      "execution_count": 54,
      "outputs": []
    },
    {
      "cell_type": "markdown",
      "source": [
        "## Train, Test and Plotting the Graph"
      ],
      "metadata": {
        "id": "EGRY1SA33KCa"
      }
    },
    {
      "cell_type": "code",
      "source": [
        "def train(model,n,optimizer,criterion):\n",
        "    training_start_time = time.time()\n",
        "    losses = []\n",
        "\n",
        "    for epoch in range(n):\n",
        "        running_loss = 0.0\n",
        "        for i, (inputs,labels) in enumerate(train_loader):\n",
        "            inputs = inputs.to(device)\n",
        "            labels = labels.to(device)\n",
        "\n",
        "            # Forward and backward propagation along with optimization\n",
        "            optimizer.zero_grad()        \n",
        "            outputs = model(inputs)\n",
        "            loss = criterion(outputs, labels)\n",
        "            loss.backward()\n",
        "            optimizer.step()    \n",
        "            \n",
        "            running_loss += loss.item()\n",
        "        print('Epoch : %d Loss: %.3f' % (epoch + 1,running_loss/256))\n",
        "        losses.append(running_loss/256)\n",
        "                \n",
        "    print('Training Finished in %.2f s' % (time.time() - training_start_time))\n",
        "    return model,losses"
      ],
      "metadata": {
        "id": "7v-vxif-Ntd8"
      },
      "execution_count": 8,
      "outputs": []
    },
    {
      "cell_type": "code",
      "source": [
        "def test(model):\n",
        "    total = 0\n",
        "    correct = 0\n",
        "    with torch.no_grad():\n",
        "        for inputs, labels in test_loader:\n",
        "            inputs = inputs.to(device)\n",
        "            labels = labels.to(device)\n",
        "\n",
        "            outputs = model(inputs)\n",
        "            _, predicted = torch.max(outputs.data, 1)\n",
        "            total += labels.size(0)\n",
        "            correct += (predicted == labels).sum().item()\n",
        "    print('Classification Accuracy: %.2f' % (100 * correct / total))"
      ],
      "metadata": {
        "id": "wlBgDqThN5If"
      },
      "execution_count": 9,
      "outputs": []
    },
    {
      "cell_type": "code",
      "source": [
        "def plot(x):\n",
        "    x = np.asarray(x)\n",
        "    y = np.arange(1,len(x)+1)\n",
        "    plt.xlabel(\"Epoch\")\n",
        "    plt.ylabel(\"Running Loss\")   \n",
        "    plt.plot(y,x)\n",
        "    plt.show()"
      ],
      "metadata": {
        "id": "4tf2U6CuNzVp"
      },
      "execution_count": 10,
      "outputs": []
    },
    {
      "cell_type": "markdown",
      "source": [
        "## Running Models with Different Optimizers"
      ],
      "metadata": {
        "id": "yxJLxQ3vDW-V"
      }
    },
    {
      "cell_type": "code",
      "source": [
        "def run(model,n):\n",
        "  criterion = nn.CrossEntropyLoss()\n",
        "  optimizer_adam = optim.Adam(model.parameters(), lr=0.01)\n",
        "  optimizer_adagrad = optim.Adagrad(model.parameters(), lr=0.01)\n",
        "  optimizer_sgd = optim.SGD(model.parameters(), lr=0.01,momentum=0.8)\n",
        "  optimizer_sgd_without_momentum = optim.SGD(model.parameters(), lr=0.01,momentum=0)\n",
        "  optimizers = [optimizer_adam,optimizer_adagrad,optimizer_sgd,optimizer_sgd_without_momentum]\n",
        "\n",
        "  for optimizer in optimizers:\n",
        "    trained_model, losses = train(model,n,optimizer,criterion)\n",
        "    plot(losses)\n",
        "    test(trained_model)"
      ],
      "metadata": {
        "id": "qP2hk49UDbx-"
      },
      "execution_count": 11,
      "outputs": []
    },
    {
      "cell_type": "code",
      "source": [
        "run(cnn1_relu,50)"
      ],
      "metadata": {
        "colab": {
          "base_uri": "https://localhost:8080/",
          "height": 1000
        },
        "id": "BBMtTi3wGGoF",
        "outputId": "1d5b7b17-26d5-4c9b-9715-9d9e103c2145"
      },
      "execution_count": 12,
      "outputs": [
        {
          "output_type": "stream",
          "name": "stderr",
          "text": [
            "/usr/local/lib/python3.9/dist-packages/torch/utils/data/dataloader.py:554: UserWarning: This DataLoader will create 4 worker processes in total. Our suggested max number of worker in current system is 2, which is smaller than what this DataLoader is going to create. Please be aware that excessive worker creation might get DataLoader running slow or even freeze, lower the worker number to avoid potential slowness/freeze if necessary.\n",
            "  warnings.warn(_create_warning_msg(\n"
          ]
        },
        {
          "output_type": "stream",
          "name": "stdout",
          "text": [
            "Epoch : 1 Loss: 1.232\n",
            "Epoch : 2 Loss: 1.034\n",
            "Epoch : 3 Loss: 0.965\n",
            "Epoch : 4 Loss: 0.917\n",
            "Epoch : 5 Loss: 0.899\n",
            "Epoch : 6 Loss: 0.868\n",
            "Epoch : 7 Loss: 0.848\n",
            "Epoch : 8 Loss: 0.817\n",
            "Epoch : 9 Loss: 0.815\n",
            "Epoch : 10 Loss: 0.815\n",
            "Epoch : 11 Loss: 0.785\n",
            "Epoch : 12 Loss: 0.779\n",
            "Epoch : 13 Loss: 0.779\n",
            "Epoch : 14 Loss: 0.767\n",
            "Epoch : 15 Loss: 0.756\n",
            "Epoch : 16 Loss: 0.739\n",
            "Epoch : 17 Loss: 0.742\n",
            "Epoch : 18 Loss: 0.745\n",
            "Epoch : 19 Loss: 0.735\n",
            "Epoch : 20 Loss: 0.719\n",
            "Epoch : 21 Loss: 0.715\n",
            "Epoch : 22 Loss: 0.720\n",
            "Epoch : 23 Loss: 0.712\n",
            "Epoch : 24 Loss: 0.698\n",
            "Epoch : 25 Loss: 0.693\n",
            "Epoch : 26 Loss: 0.698\n",
            "Epoch : 27 Loss: 0.693\n",
            "Epoch : 28 Loss: 0.689\n",
            "Epoch : 29 Loss: 0.688\n",
            "Epoch : 30 Loss: 0.682\n",
            "Epoch : 31 Loss: 0.683\n",
            "Epoch : 32 Loss: 0.676\n",
            "Epoch : 33 Loss: 0.678\n",
            "Epoch : 34 Loss: 0.670\n",
            "Epoch : 35 Loss: 0.663\n",
            "Epoch : 36 Loss: 0.669\n",
            "Epoch : 37 Loss: 0.661\n",
            "Epoch : 38 Loss: 0.662\n",
            "Epoch : 39 Loss: 0.655\n",
            "Epoch : 40 Loss: 0.650\n",
            "Epoch : 41 Loss: 0.645\n",
            "Epoch : 42 Loss: 0.661\n",
            "Epoch : 43 Loss: 0.665\n",
            "Epoch : 44 Loss: 0.652\n",
            "Epoch : 45 Loss: 0.653\n",
            "Epoch : 46 Loss: 0.652\n",
            "Epoch : 47 Loss: 0.637\n",
            "Epoch : 48 Loss: 0.631\n",
            "Epoch : 49 Loss: 0.636\n",
            "Epoch : 50 Loss: 0.630\n",
            "Training Finished in 626.47 s\n"
          ]
        },
        {
          "output_type": "display_data",
          "data": {
            "text/plain": [
              "<Figure size 432x288 with 1 Axes>"
            ],
            "image/png": "[encoded data removed]"
          },
          "metadata": {
            "needs_background": "light"
          }
        },
        {
          "output_type": "stream",
          "name": "stdout",
          "text": [
            "Classification Accuracy: 73.06\n",
            "Epoch : 1 Loss: 0.502\n",
            "Epoch : 2 Loss: 0.462\n",
            "Epoch : 3 Loss: 0.451\n",
            "Epoch : 4 Loss: 0.445\n",
            "Epoch : 5 Loss: 0.440\n",
            "Epoch : 6 Loss: 0.437\n",
            "Epoch : 7 Loss: 0.434\n",
            "Epoch : 8 Loss: 0.431\n",
            "Epoch : 9 Loss: 0.429\n",
            "Epoch : 10 Loss: 0.428\n",
            "Epoch : 11 Loss: 0.426\n",
            "Epoch : 12 Loss: 0.424\n",
            "Epoch : 13 Loss: 0.423\n",
            "Epoch : 14 Loss: 0.421\n",
            "Epoch : 15 Loss: 0.420\n",
            "Epoch : 16 Loss: 0.419\n",
            "Epoch : 17 Loss: 0.418\n",
            "Epoch : 18 Loss: 0.417\n",
            "Epoch : 19 Loss: 0.416\n",
            "Epoch : 20 Loss: 0.415\n",
            "Epoch : 21 Loss: 0.414\n",
            "Epoch : 22 Loss: 0.414\n",
            "Epoch : 23 Loss: 0.412\n",
            "Epoch : 24 Loss: 0.412\n",
            "Epoch : 25 Loss: 0.411\n",
            "Epoch : 26 Loss: 0.411\n",
            "Epoch : 27 Loss: 0.410\n",
            "Epoch : 28 Loss: 0.409\n",
            "Epoch : 29 Loss: 0.408\n",
            "Epoch : 30 Loss: 0.408\n",
            "Epoch : 31 Loss: 0.407\n",
            "Epoch : 32 Loss: 0.407\n",
            "Epoch : 33 Loss: 0.406\n",
            "Epoch : 34 Loss: 0.406\n",
            "Epoch : 35 Loss: 0.405\n",
            "Epoch : 36 Loss: 0.405\n",
            "Epoch : 37 Loss: 0.404\n",
            "Epoch : 38 Loss: 0.403\n",
            "Epoch : 39 Loss: 0.403\n",
            "Epoch : 40 Loss: 0.402\n",
            "Epoch : 41 Loss: 0.402\n",
            "Epoch : 42 Loss: 0.401\n",
            "Epoch : 43 Loss: 0.401\n",
            "Epoch : 44 Loss: 0.401\n",
            "Epoch : 45 Loss: 0.401\n",
            "Epoch : 46 Loss: 0.399\n",
            "Epoch : 47 Loss: 0.399\n",
            "Epoch : 48 Loss: 0.399\n",
            "Epoch : 49 Loss: 0.399\n",
            "Epoch : 50 Loss: 0.398\n",
            "Training Finished in 619.37 s\n"
          ]
        },
        {
          "output_type": "display_data",
          "data": {
            "text/plain": [
              "<Figure size 432x288 with 1 Axes>"
            ],
            "image/png": "[encoded data removed]"
          },
          "metadata": {
            "needs_background": "light"
          }
        },
        {
          "output_type": "stream",
          "name": "stdout",
          "text": [
            "Classification Accuracy: 81.69\n",
            "Epoch : 1 Loss: 0.426\n",
            "Epoch : 2 Loss: 0.431\n",
            "Epoch : 3 Loss: 0.428\n",
            "Epoch : 4 Loss: 0.427\n",
            "Epoch : 5 Loss: 0.426\n",
            "Epoch : 6 Loss: 0.427\n",
            "Epoch : 7 Loss: 0.425\n",
            "Epoch : 8 Loss: 0.425\n",
            "Epoch : 9 Loss: 0.426\n",
            "Epoch : 10 Loss: 0.424\n",
            "Epoch : 11 Loss: 0.421\n",
            "Epoch : 12 Loss: 0.421\n",
            "Epoch : 13 Loss: 0.423\n",
            "Epoch : 14 Loss: 0.421\n",
            "Epoch : 15 Loss: 0.420\n",
            "Epoch : 16 Loss: 0.421\n",
            "Epoch : 17 Loss: 0.423\n",
            "Epoch : 18 Loss: 0.418\n",
            "Epoch : 19 Loss: 0.420\n",
            "Epoch : 20 Loss: 0.419\n",
            "Epoch : 21 Loss: 0.421\n",
            "Epoch : 22 Loss: 0.419\n",
            "Epoch : 23 Loss: 0.420\n",
            "Epoch : 24 Loss: 0.419\n",
            "Epoch : 25 Loss: 0.416\n",
            "Epoch : 26 Loss: 0.417\n",
            "Epoch : 27 Loss: 0.418\n",
            "Epoch : 28 Loss: 0.420\n",
            "Epoch : 29 Loss: 0.419\n",
            "Epoch : 30 Loss: 0.416\n",
            "Epoch : 31 Loss: 0.416\n",
            "Epoch : 32 Loss: 0.417\n",
            "Epoch : 33 Loss: 0.415\n",
            "Epoch : 34 Loss: 0.414\n",
            "Epoch : 35 Loss: 0.416\n",
            "Epoch : 36 Loss: 0.414\n",
            "Epoch : 37 Loss: 0.413\n",
            "Epoch : 38 Loss: 0.416\n",
            "Epoch : 39 Loss: 0.415\n",
            "Epoch : 40 Loss: 0.413\n",
            "Epoch : 41 Loss: 0.415\n",
            "Epoch : 42 Loss: 0.416\n",
            "Epoch : 43 Loss: 0.415\n",
            "Epoch : 44 Loss: 0.415\n",
            "Epoch : 45 Loss: 0.413\n",
            "Epoch : 46 Loss: 0.411\n",
            "Epoch : 47 Loss: 0.411\n",
            "Epoch : 48 Loss: 0.411\n",
            "Epoch : 49 Loss: 0.414\n",
            "Epoch : 50 Loss: 0.411\n",
            "Training Finished in 607.17 s\n"
          ]
        },
        {
          "output_type": "display_data",
          "data": {
            "text/plain": [
              "<Figure size 432x288 with 1 Axes>"
            ],
            "image/png": "[encoded data removed]"
          },
          "metadata": {
            "needs_background": "light"
          }
        },
        {
          "output_type": "stream",
          "name": "stdout",
          "text": [
            "Classification Accuracy: 80.44\n",
            "Epoch : 1 Loss: 0.391\n",
            "Epoch : 2 Loss: 0.389\n",
            "Epoch : 3 Loss: 0.388\n",
            "Epoch : 4 Loss: 0.388\n",
            "Epoch : 5 Loss: 0.388\n",
            "Epoch : 6 Loss: 0.388\n",
            "Epoch : 7 Loss: 0.388\n",
            "Epoch : 8 Loss: 0.388\n",
            "Epoch : 9 Loss: 0.388\n",
            "Epoch : 10 Loss: 0.388\n",
            "Epoch : 11 Loss: 0.388\n",
            "Epoch : 12 Loss: 0.388\n",
            "Epoch : 13 Loss: 0.388\n",
            "Epoch : 14 Loss: 0.388\n",
            "Epoch : 15 Loss: 0.387\n",
            "Epoch : 16 Loss: 0.388\n",
            "Epoch : 17 Loss: 0.387\n",
            "Epoch : 18 Loss: 0.387\n",
            "Epoch : 19 Loss: 0.387\n",
            "Epoch : 20 Loss: 0.386\n",
            "Epoch : 21 Loss: 0.387\n",
            "Epoch : 22 Loss: 0.387\n",
            "Epoch : 23 Loss: 0.387\n",
            "Epoch : 24 Loss: 0.387\n",
            "Epoch : 25 Loss: 0.387\n",
            "Epoch : 26 Loss: 0.386\n",
            "Epoch : 27 Loss: 0.387\n",
            "Epoch : 28 Loss: 0.387\n",
            "Epoch : 29 Loss: 0.386\n",
            "Epoch : 30 Loss: 0.386\n",
            "Epoch : 31 Loss: 0.386\n",
            "Epoch : 32 Loss: 0.386\n",
            "Epoch : 33 Loss: 0.386\n",
            "Epoch : 34 Loss: 0.386\n",
            "Epoch : 35 Loss: 0.386\n",
            "Epoch : 36 Loss: 0.386\n",
            "Epoch : 37 Loss: 0.385\n",
            "Epoch : 38 Loss: 0.386\n",
            "Epoch : 39 Loss: 0.386\n",
            "Epoch : 40 Loss: 0.385\n",
            "Epoch : 41 Loss: 0.385\n",
            "Epoch : 42 Loss: 0.386\n",
            "Epoch : 43 Loss: 0.386\n",
            "Epoch : 44 Loss: 0.385\n",
            "Epoch : 45 Loss: 0.386\n",
            "Epoch : 46 Loss: 0.386\n",
            "Epoch : 47 Loss: 0.386\n",
            "Epoch : 48 Loss: 0.385\n",
            "Epoch : 49 Loss: 0.385\n",
            "Epoch : 50 Loss: 0.385\n",
            "Training Finished in 596.25 s\n"
          ]
        },
        {
          "output_type": "display_data",
          "data": {
            "text/plain": [
              "<Figure size 432x288 with 1 Axes>"
            ],
            "image/png": "[encoded data removed]"
          },
          "metadata": {
            "needs_background": "light"
          }
        },
        {
          "output_type": "stream",
          "name": "stdout",
          "text": [
            "Classification Accuracy: 81.92\n"
          ]
        }
      ]
    },
    {
      "cell_type": "code",
      "source": [
        "run(cnn1_sigmoid,50)"
      ],
      "metadata": {
        "colab": {
          "base_uri": "https://localhost:8080/",
          "height": 1000
        },
        "id": "an7jgue8GYe_",
        "outputId": "41655d62-29e0-4404-974e-99c688b6c357"
      },
      "execution_count": 13,
      "outputs": [
        {
          "output_type": "stream",
          "name": "stderr",
          "text": [
            "/usr/local/lib/python3.9/dist-packages/torch/utils/data/dataloader.py:554: UserWarning: This DataLoader will create 4 worker processes in total. Our suggested max number of worker in current system is 2, which is smaller than what this DataLoader is going to create. Please be aware that excessive worker creation might get DataLoader running slow or even freeze, lower the worker number to avoid potential slowness/freeze if necessary.\n",
            "  warnings.warn(_create_warning_msg(\n"
          ]
        },
        {
          "output_type": "stream",
          "name": "stdout",
          "text": [
            "Epoch : 1 Loss: 1.485\n",
            "Epoch : 2 Loss: 1.172\n",
            "Epoch : 3 Loss: 1.068\n",
            "Epoch : 4 Loss: 0.994\n",
            "Epoch : 5 Loss: 0.940\n",
            "Epoch : 6 Loss: 0.886\n",
            "Epoch : 7 Loss: 0.840\n",
            "Epoch : 8 Loss: 0.801\n",
            "Epoch : 9 Loss: 0.764\n",
            "Epoch : 10 Loss: 0.728\n",
            "Epoch : 11 Loss: 0.697\n",
            "Epoch : 12 Loss: 0.670\n",
            "Epoch : 13 Loss: 0.642\n",
            "Epoch : 14 Loss: 0.613\n",
            "Epoch : 15 Loss: 0.594\n",
            "Epoch : 16 Loss: 0.574\n",
            "Epoch : 17 Loss: 0.556\n",
            "Epoch : 18 Loss: 0.539\n",
            "Epoch : 19 Loss: 0.516\n",
            "Epoch : 20 Loss: 0.493\n",
            "Epoch : 21 Loss: 0.478\n",
            "Epoch : 22 Loss: 0.464\n",
            "Epoch : 23 Loss: 0.447\n",
            "Epoch : 24 Loss: 0.430\n",
            "Epoch : 25 Loss: 0.417\n",
            "Epoch : 26 Loss: 0.401\n",
            "Epoch : 27 Loss: 0.391\n",
            "Epoch : 28 Loss: 0.376\n",
            "Epoch : 29 Loss: 0.357\n",
            "Epoch : 30 Loss: 0.348\n",
            "Epoch : 31 Loss: 0.335\n",
            "Epoch : 32 Loss: 0.334\n",
            "Epoch : 33 Loss: 0.321\n",
            "Epoch : 34 Loss: 0.305\n",
            "Epoch : 35 Loss: 0.296\n",
            "Epoch : 36 Loss: 0.275\n",
            "Epoch : 37 Loss: 0.271\n",
            "Epoch : 38 Loss: 0.269\n",
            "Epoch : 39 Loss: 0.261\n",
            "Epoch : 40 Loss: 0.256\n",
            "Epoch : 41 Loss: 0.244\n",
            "Epoch : 42 Loss: 0.236\n",
            "Epoch : 43 Loss: 0.221\n",
            "Epoch : 44 Loss: 0.222\n",
            "Epoch : 45 Loss: 0.214\n",
            "Epoch : 46 Loss: 0.207\n",
            "Epoch : 47 Loss: 0.202\n",
            "Epoch : 48 Loss: 0.191\n",
            "Epoch : 49 Loss: 0.192\n",
            "Epoch : 50 Loss: 0.191\n",
            "Training Finished in 612.04 s\n"
          ]
        },
        {
          "output_type": "display_data",
          "data": {
            "text/plain": [
              "<Figure size 432x288 with 1 Axes>"
            ],
            "image/png": "[encoded data removed]"
          },
          "metadata": {
            "needs_background": "light"
          }
        },
        {
          "output_type": "stream",
          "name": "stdout",
          "text": [
            "Classification Accuracy: 93.59\n",
            "Epoch : 1 Loss: 0.102\n",
            "Epoch : 2 Loss: 0.084\n",
            "Epoch : 3 Loss: 0.080\n",
            "Epoch : 4 Loss: 0.077\n",
            "Epoch : 5 Loss: 0.075\n",
            "Epoch : 6 Loss: 0.074\n",
            "Epoch : 7 Loss: 0.073\n",
            "Epoch : 8 Loss: 0.072\n",
            "Epoch : 9 Loss: 0.071\n",
            "Epoch : 10 Loss: 0.070\n",
            "Epoch : 11 Loss: 0.069\n",
            "Epoch : 12 Loss: 0.069\n",
            "Epoch : 13 Loss: 0.068\n",
            "Epoch : 14 Loss: 0.067\n",
            "Epoch : 15 Loss: 0.067\n",
            "Epoch : 16 Loss: 0.066\n",
            "Epoch : 17 Loss: 0.066\n",
            "Epoch : 18 Loss: 0.066\n",
            "Epoch : 19 Loss: 0.065\n",
            "Epoch : 20 Loss: 0.065\n",
            "Epoch : 21 Loss: 0.064\n",
            "Epoch : 22 Loss: 0.064\n",
            "Epoch : 23 Loss: 0.064\n",
            "Epoch : 24 Loss: 0.063\n",
            "Epoch : 25 Loss: 0.063\n",
            "Epoch : 26 Loss: 0.063\n",
            "Epoch : 27 Loss: 0.062\n",
            "Epoch : 28 Loss: 0.062\n",
            "Epoch : 29 Loss: 0.062\n",
            "Epoch : 30 Loss: 0.061\n",
            "Epoch : 31 Loss: 0.061\n",
            "Epoch : 32 Loss: 0.061\n",
            "Epoch : 33 Loss: 0.061\n",
            "Epoch : 34 Loss: 0.060\n",
            "Epoch : 35 Loss: 0.060\n",
            "Epoch : 36 Loss: 0.060\n",
            "Epoch : 37 Loss: 0.060\n",
            "Epoch : 38 Loss: 0.059\n",
            "Epoch : 39 Loss: 0.059\n",
            "Epoch : 40 Loss: 0.059\n",
            "Epoch : 41 Loss: 0.059\n",
            "Epoch : 42 Loss: 0.058\n",
            "Epoch : 43 Loss: 0.058\n",
            "Epoch : 44 Loss: 0.058\n",
            "Epoch : 45 Loss: 0.058\n",
            "Epoch : 46 Loss: 0.058\n",
            "Epoch : 47 Loss: 0.057\n",
            "Epoch : 48 Loss: 0.057\n",
            "Epoch : 49 Loss: 0.057\n",
            "Epoch : 50 Loss: 0.057\n",
            "Training Finished in 643.25 s\n"
          ]
        },
        {
          "output_type": "display_data",
          "data": {
            "text/plain": [
              "<Figure size 432x288 with 1 Axes>"
            ],
            "image/png": "[encoded data removed]"
          },
          "metadata": {
            "needs_background": "light"
          }
        },
        {
          "output_type": "stream",
          "name": "stdout",
          "text": [
            "Classification Accuracy: 99.16\n",
            "Epoch : 1 Loss: 0.057\n",
            "Epoch : 2 Loss: 0.057\n",
            "Epoch : 3 Loss: 0.057\n",
            "Epoch : 4 Loss: 0.057\n",
            "Epoch : 5 Loss: 0.057\n",
            "Epoch : 6 Loss: 0.057\n",
            "Epoch : 7 Loss: 0.056\n",
            "Epoch : 8 Loss: 0.056\n",
            "Epoch : 9 Loss: 0.056\n",
            "Epoch : 10 Loss: 0.056\n",
            "Epoch : 11 Loss: 0.056\n",
            "Epoch : 12 Loss: 0.056\n",
            "Epoch : 13 Loss: 0.056\n",
            "Epoch : 14 Loss: 0.056\n",
            "Epoch : 15 Loss: 0.056\n",
            "Epoch : 16 Loss: 0.056\n",
            "Epoch : 17 Loss: 0.056\n",
            "Epoch : 18 Loss: 0.056\n",
            "Epoch : 19 Loss: 0.056\n",
            "Epoch : 20 Loss: 0.056\n",
            "Epoch : 21 Loss: 0.056\n",
            "Epoch : 22 Loss: 0.056\n",
            "Epoch : 23 Loss: 0.056\n",
            "Epoch : 24 Loss: 0.056\n",
            "Epoch : 25 Loss: 0.056\n",
            "Epoch : 26 Loss: 0.055\n",
            "Epoch : 27 Loss: 0.055\n",
            "Epoch : 28 Loss: 0.055\n",
            "Epoch : 29 Loss: 0.055\n",
            "Epoch : 30 Loss: 0.055\n",
            "Epoch : 31 Loss: 0.055\n",
            "Epoch : 32 Loss: 0.055\n",
            "Epoch : 33 Loss: 0.055\n",
            "Epoch : 34 Loss: 0.055\n",
            "Epoch : 35 Loss: 0.055\n",
            "Epoch : 36 Loss: 0.055\n",
            "Epoch : 37 Loss: 0.055\n",
            "Epoch : 38 Loss: 0.055\n",
            "Epoch : 39 Loss: 0.055\n",
            "Epoch : 40 Loss: 0.055\n",
            "Epoch : 41 Loss: 0.055\n",
            "Epoch : 42 Loss: 0.055\n",
            "Epoch : 43 Loss: 0.054\n",
            "Epoch : 44 Loss: 0.054\n",
            "Epoch : 45 Loss: 0.054\n",
            "Epoch : 46 Loss: 0.054\n",
            "Epoch : 47 Loss: 0.054\n",
            "Epoch : 48 Loss: 0.054\n",
            "Epoch : 49 Loss: 0.054\n",
            "Epoch : 50 Loss: 0.054\n",
            "Training Finished in 640.37 s\n"
          ]
        },
        {
          "output_type": "display_data",
          "data": {
            "text/plain": [
              "<Figure size 432x288 with 1 Axes>"
            ],
            "image/png": "[encoded data removed]"
          },
          "metadata": {
            "needs_background": "light"
          }
        },
        {
          "output_type": "stream",
          "name": "stdout",
          "text": [
            "Classification Accuracy: 99.22\n",
            "Epoch : 1 Loss: 0.054\n",
            "Epoch : 2 Loss: 0.053\n",
            "Epoch : 3 Loss: 0.053\n",
            "Epoch : 4 Loss: 0.053\n",
            "Epoch : 5 Loss: 0.053\n",
            "Epoch : 6 Loss: 0.053\n",
            "Epoch : 7 Loss: 0.053\n",
            "Epoch : 8 Loss: 0.053\n",
            "Epoch : 9 Loss: 0.053\n",
            "Epoch : 10 Loss: 0.053\n",
            "Epoch : 11 Loss: 0.053\n",
            "Epoch : 12 Loss: 0.053\n",
            "Epoch : 13 Loss: 0.053\n",
            "Epoch : 14 Loss: 0.053\n",
            "Epoch : 15 Loss: 0.053\n",
            "Epoch : 16 Loss: 0.053\n",
            "Epoch : 17 Loss: 0.053\n",
            "Epoch : 18 Loss: 0.053\n",
            "Epoch : 19 Loss: 0.053\n",
            "Epoch : 20 Loss: 0.053\n",
            "Epoch : 21 Loss: 0.053\n",
            "Epoch : 22 Loss: 0.053\n",
            "Epoch : 23 Loss: 0.053\n",
            "Epoch : 24 Loss: 0.053\n",
            "Epoch : 25 Loss: 0.053\n",
            "Epoch : 26 Loss: 0.053\n",
            "Epoch : 27 Loss: 0.053\n",
            "Epoch : 28 Loss: 0.053\n",
            "Epoch : 29 Loss: 0.053\n",
            "Epoch : 30 Loss: 0.053\n",
            "Epoch : 31 Loss: 0.053\n",
            "Epoch : 32 Loss: 0.053\n",
            "Epoch : 33 Loss: 0.053\n",
            "Epoch : 34 Loss: 0.053\n",
            "Epoch : 35 Loss: 0.053\n",
            "Epoch : 36 Loss: 0.053\n",
            "Epoch : 37 Loss: 0.053\n",
            "Epoch : 38 Loss: 0.053\n",
            "Epoch : 39 Loss: 0.053\n",
            "Epoch : 40 Loss: 0.053\n",
            "Epoch : 41 Loss: 0.053\n",
            "Epoch : 42 Loss: 0.053\n",
            "Epoch : 43 Loss: 0.053\n",
            "Epoch : 44 Loss: 0.053\n",
            "Epoch : 45 Loss: 0.053\n",
            "Epoch : 46 Loss: 0.053\n",
            "Epoch : 47 Loss: 0.053\n",
            "Epoch : 48 Loss: 0.053\n",
            "Epoch : 49 Loss: 0.053\n",
            "Epoch : 50 Loss: 0.053\n",
            "Training Finished in 619.59 s\n"
          ]
        },
        {
          "output_type": "display_data",
          "data": {
            "text/plain": [
              "<Figure size 432x288 with 1 Axes>"
            ],
            "image/png": "[encoded data removed]"
          },
          "metadata": {
            "needs_background": "light"
          }
        },
        {
          "output_type": "stream",
          "name": "stdout",
          "text": [
            "Classification Accuracy: 99.23\n"
          ]
        }
      ]
    },
    {
      "cell_type": "code",
      "source": [
        "run(cnn1_tanh,50)"
      ],
      "metadata": {
        "colab": {
          "base_uri": "https://localhost:8080/",
          "height": 1000
        },
        "id": "ePdRmCvgGda9",
        "outputId": "b0c39433-02be-43b3-edb6-47818422262c"
      },
      "execution_count": 14,
      "outputs": [
        {
          "output_type": "stream",
          "name": "stdout",
          "text": [
            "Epoch : 1 Loss: 1.223\n",
            "Epoch : 2 Loss: 1.023\n",
            "Epoch : 3 Loss: 0.964\n",
            "Epoch : 4 Loss: 0.930\n",
            "Epoch : 5 Loss: 0.921\n",
            "Epoch : 6 Loss: 0.902\n",
            "Epoch : 7 Loss: 0.888\n",
            "Epoch : 8 Loss: 0.875\n",
            "Epoch : 9 Loss: 0.860\n",
            "Epoch : 10 Loss: 0.859\n",
            "Epoch : 11 Loss: 0.852\n",
            "Epoch : 12 Loss: 0.838\n",
            "Epoch : 13 Loss: 0.848\n",
            "Epoch : 14 Loss: 0.841\n",
            "Epoch : 15 Loss: 0.825\n",
            "Epoch : 16 Loss: 0.823\n",
            "Epoch : 17 Loss: 0.817\n",
            "Epoch : 18 Loss: 0.821\n",
            "Epoch : 19 Loss: 0.813\n",
            "Epoch : 20 Loss: 0.819\n",
            "Epoch : 21 Loss: 0.825\n",
            "Epoch : 22 Loss: 0.819\n",
            "Epoch : 23 Loss: 0.812\n",
            "Epoch : 24 Loss: 0.796\n",
            "Epoch : 25 Loss: 0.799\n",
            "Epoch : 26 Loss: 0.813\n",
            "Epoch : 27 Loss: 0.790\n",
            "Epoch : 28 Loss: 0.804\n",
            "Epoch : 29 Loss: 0.799\n",
            "Epoch : 30 Loss: 0.798\n",
            "Epoch : 31 Loss: 0.792\n",
            "Epoch : 32 Loss: 0.800\n",
            "Epoch : 33 Loss: 0.799\n",
            "Epoch : 34 Loss: 0.784\n",
            "Epoch : 35 Loss: 0.779\n",
            "Epoch : 36 Loss: 0.800\n",
            "Epoch : 37 Loss: 0.798\n",
            "Epoch : 38 Loss: 0.787\n",
            "Epoch : 39 Loss: 0.790\n",
            "Epoch : 40 Loss: 0.793\n",
            "Epoch : 41 Loss: 0.792\n",
            "Epoch : 42 Loss: 0.796\n",
            "Epoch : 43 Loss: 0.787\n",
            "Epoch : 44 Loss: 0.788\n",
            "Epoch : 45 Loss: 0.778\n",
            "Epoch : 46 Loss: 0.799\n",
            "Epoch : 47 Loss: 0.798\n",
            "Epoch : 48 Loss: 0.795\n",
            "Epoch : 49 Loss: 0.782\n",
            "Epoch : 50 Loss: 0.788\n",
            "Training Finished in 614.72 s\n"
          ]
        },
        {
          "output_type": "display_data",
          "data": {
            "text/plain": [
              "<Figure size 432x288 with 1 Axes>"
            ],
            "image/png": "[encoded data removed]"
          },
          "metadata": {
            "needs_background": "light"
          }
        },
        {
          "output_type": "stream",
          "name": "stdout",
          "text": [
            "Classification Accuracy: 62.02\n",
            "Epoch : 1 Loss: 0.695\n",
            "Epoch : 2 Loss: 0.656\n",
            "Epoch : 3 Loss: 0.638\n",
            "Epoch : 4 Loss: 0.625\n",
            "Epoch : 5 Loss: 0.614\n",
            "Epoch : 6 Loss: 0.606\n",
            "Epoch : 7 Loss: 0.598\n",
            "Epoch : 8 Loss: 0.591\n",
            "Epoch : 9 Loss: 0.585\n",
            "Epoch : 10 Loss: 0.579\n",
            "Epoch : 11 Loss: 0.574\n",
            "Epoch : 12 Loss: 0.570\n",
            "Epoch : 13 Loss: 0.566\n",
            "Epoch : 14 Loss: 0.563\n",
            "Epoch : 15 Loss: 0.559\n",
            "Epoch : 16 Loss: 0.556\n",
            "Epoch : 17 Loss: 0.552\n",
            "Epoch : 18 Loss: 0.549\n",
            "Epoch : 19 Loss: 0.547\n",
            "Epoch : 20 Loss: 0.545\n",
            "Epoch : 21 Loss: 0.542\n",
            "Epoch : 22 Loss: 0.539\n",
            "Epoch : 23 Loss: 0.538\n",
            "Epoch : 24 Loss: 0.536\n",
            "Epoch : 25 Loss: 0.533\n",
            "Epoch : 26 Loss: 0.531\n",
            "Epoch : 27 Loss: 0.530\n",
            "Epoch : 28 Loss: 0.527\n",
            "Epoch : 29 Loss: 0.526\n",
            "Epoch : 30 Loss: 0.525\n",
            "Epoch : 31 Loss: 0.522\n",
            "Epoch : 32 Loss: 0.520\n",
            "Epoch : 33 Loss: 0.520\n",
            "Epoch : 34 Loss: 0.517\n",
            "Epoch : 35 Loss: 0.516\n",
            "Epoch : 36 Loss: 0.515\n",
            "Epoch : 37 Loss: 0.513\n",
            "Epoch : 38 Loss: 0.511\n",
            "Epoch : 39 Loss: 0.511\n",
            "Epoch : 40 Loss: 0.510\n",
            "Epoch : 41 Loss: 0.508\n",
            "Epoch : 42 Loss: 0.507\n",
            "Epoch : 43 Loss: 0.505\n",
            "Epoch : 44 Loss: 0.504\n",
            "Epoch : 45 Loss: 0.503\n",
            "Epoch : 46 Loss: 0.502\n",
            "Epoch : 47 Loss: 0.501\n",
            "Epoch : 48 Loss: 0.500\n",
            "Epoch : 49 Loss: 0.498\n",
            "Epoch : 50 Loss: 0.498\n",
            "Training Finished in 608.42 s\n"
          ]
        },
        {
          "output_type": "display_data",
          "data": {
            "text/plain": [
              "<Figure size 432x288 with 1 Axes>"
            ],
            "image/png": "[encoded data removed]"
          },
          "metadata": {
            "needs_background": "light"
          }
        },
        {
          "output_type": "stream",
          "name": "stdout",
          "text": [
            "Classification Accuracy: 77.92\n",
            "Epoch : 1 Loss: 0.550\n",
            "Epoch : 2 Loss: 0.554\n",
            "Epoch : 3 Loss: 0.562\n",
            "Epoch : 4 Loss: 0.553\n",
            "Epoch : 5 Loss: 0.549\n",
            "Epoch : 6 Loss: 0.561\n",
            "Epoch : 7 Loss: 0.555\n",
            "Epoch : 8 Loss: 0.548\n",
            "Epoch : 9 Loss: 0.542\n",
            "Epoch : 10 Loss: 0.544\n",
            "Epoch : 11 Loss: 0.540\n",
            "Epoch : 12 Loss: 0.549\n",
            "Epoch : 13 Loss: 0.550\n",
            "Epoch : 14 Loss: 0.543\n",
            "Epoch : 15 Loss: 0.541\n",
            "Epoch : 16 Loss: 0.543\n",
            "Epoch : 17 Loss: 0.544\n",
            "Epoch : 18 Loss: 0.545\n",
            "Epoch : 19 Loss: 0.540\n",
            "Epoch : 20 Loss: 0.553\n",
            "Epoch : 21 Loss: 0.541\n",
            "Epoch : 22 Loss: 0.541\n",
            "Epoch : 23 Loss: 0.544\n",
            "Epoch : 24 Loss: 0.538\n",
            "Epoch : 25 Loss: 0.561\n",
            "Epoch : 26 Loss: 0.540\n",
            "Epoch : 27 Loss: 0.551\n",
            "Epoch : 28 Loss: 0.553\n",
            "Epoch : 29 Loss: 0.543\n",
            "Epoch : 30 Loss: 0.547\n",
            "Epoch : 31 Loss: 0.554\n",
            "Epoch : 32 Loss: 0.555\n",
            "Epoch : 33 Loss: 0.556\n",
            "Epoch : 34 Loss: 0.549\n",
            "Epoch : 35 Loss: 0.546\n",
            "Epoch : 36 Loss: 0.542\n",
            "Epoch : 37 Loss: 0.537\n",
            "Epoch : 38 Loss: 0.539\n",
            "Epoch : 39 Loss: 0.542\n",
            "Epoch : 40 Loss: 0.540\n",
            "Epoch : 41 Loss: 0.537\n",
            "Epoch : 42 Loss: 0.537\n",
            "Epoch : 43 Loss: 0.549\n",
            "Epoch : 44 Loss: 0.542\n",
            "Epoch : 45 Loss: 0.544\n",
            "Epoch : 46 Loss: 0.541\n",
            "Epoch : 47 Loss: 0.531\n",
            "Epoch : 48 Loss: 0.535\n",
            "Epoch : 49 Loss: 0.532\n",
            "Epoch : 50 Loss: 0.522\n",
            "Training Finished in 602.87 s\n"
          ]
        },
        {
          "output_type": "display_data",
          "data": {
            "text/plain": [
              "<Figure size 432x288 with 1 Axes>"
            ],
            "image/png": "[encoded data removed]"
          },
          "metadata": {
            "needs_background": "light"
          }
        },
        {
          "output_type": "stream",
          "name": "stdout",
          "text": [
            "Classification Accuracy: 76.29\n",
            "Epoch : 1 Loss: 0.498\n",
            "Epoch : 2 Loss: 0.495\n",
            "Epoch : 3 Loss: 0.494\n",
            "Epoch : 4 Loss: 0.494\n",
            "Epoch : 5 Loss: 0.494\n",
            "Epoch : 6 Loss: 0.494\n",
            "Epoch : 7 Loss: 0.493\n",
            "Epoch : 8 Loss: 0.492\n",
            "Epoch : 9 Loss: 0.494\n",
            "Epoch : 10 Loss: 0.491\n",
            "Epoch : 11 Loss: 0.493\n",
            "Epoch : 12 Loss: 0.492\n",
            "Epoch : 13 Loss: 0.492\n",
            "Epoch : 14 Loss: 0.491\n",
            "Epoch : 15 Loss: 0.492\n",
            "Epoch : 16 Loss: 0.491\n",
            "Epoch : 17 Loss: 0.490\n",
            "Epoch : 18 Loss: 0.490\n",
            "Epoch : 19 Loss: 0.492\n",
            "Epoch : 20 Loss: 0.491\n",
            "Epoch : 21 Loss: 0.490\n",
            "Epoch : 22 Loss: 0.492\n",
            "Epoch : 23 Loss: 0.490\n",
            "Epoch : 24 Loss: 0.491\n",
            "Epoch : 25 Loss: 0.489\n",
            "Epoch : 26 Loss: 0.490\n",
            "Epoch : 27 Loss: 0.489\n",
            "Epoch : 28 Loss: 0.491\n",
            "Epoch : 29 Loss: 0.490\n",
            "Epoch : 30 Loss: 0.490\n",
            "Epoch : 31 Loss: 0.489\n",
            "Epoch : 32 Loss: 0.490\n",
            "Epoch : 33 Loss: 0.489\n",
            "Epoch : 34 Loss: 0.491\n",
            "Epoch : 35 Loss: 0.490\n",
            "Epoch : 36 Loss: 0.488\n",
            "Epoch : 37 Loss: 0.488\n",
            "Epoch : 38 Loss: 0.490\n",
            "Epoch : 39 Loss: 0.488\n",
            "Epoch : 40 Loss: 0.487\n",
            "Epoch : 41 Loss: 0.489\n",
            "Epoch : 42 Loss: 0.487\n",
            "Epoch : 43 Loss: 0.488\n",
            "Epoch : 44 Loss: 0.487\n",
            "Epoch : 45 Loss: 0.487\n",
            "Epoch : 46 Loss: 0.489\n",
            "Epoch : 47 Loss: 0.487\n",
            "Epoch : 48 Loss: 0.488\n",
            "Epoch : 49 Loss: 0.487\n",
            "Epoch : 50 Loss: 0.487\n",
            "Training Finished in 613.77 s\n"
          ]
        },
        {
          "output_type": "display_data",
          "data": {
            "text/plain": [
              "<Figure size 432x288 with 1 Axes>"
            ],
            "image/png": "[encoded data removed]"
          },
          "metadata": {
            "needs_background": "light"
          }
        },
        {
          "output_type": "stream",
          "name": "stdout",
          "text": [
            "Classification Accuracy: 77.50\n"
          ]
        }
      ]
    },
    {
      "cell_type": "code",
      "source": [
        "run(cnn2_relu,50)"
      ],
      "metadata": {
        "colab": {
          "base_uri": "https://localhost:8080/",
          "height": 1000
        },
        "id": "JbmlyjCbJQLr",
        "outputId": "7e1b6b6c-92c8-4dbb-d690-62467a69a55a"
      },
      "execution_count": 55,
      "outputs": [
        {
          "output_type": "stream",
          "name": "stderr",
          "text": [
            "/usr/local/lib/python3.9/dist-packages/torch/utils/data/dataloader.py:554: UserWarning: This DataLoader will create 4 worker processes in total. Our suggested max number of worker in current system is 2, which is smaller than what this DataLoader is going to create. Please be aware that excessive worker creation might get DataLoader running slow or even freeze, lower the worker number to avoid potential slowness/freeze if necessary.\n",
            "  warnings.warn(_create_warning_msg(\n"
          ]
        },
        {
          "output_type": "stream",
          "name": "stdout",
          "text": [
            "Epoch : 1 Loss: 1.303\n",
            "Epoch : 2 Loss: 1.087\n",
            "Epoch : 3 Loss: 1.022\n",
            "Epoch : 4 Loss: 0.987\n",
            "Epoch : 5 Loss: 0.961\n",
            "Epoch : 6 Loss: 0.952\n",
            "Epoch : 7 Loss: 0.923\n",
            "Epoch : 8 Loss: 0.903\n",
            "Epoch : 9 Loss: 0.900\n",
            "Epoch : 10 Loss: 0.882\n",
            "Epoch : 11 Loss: 0.870\n",
            "Epoch : 12 Loss: 0.858\n",
            "Epoch : 13 Loss: 0.858\n",
            "Epoch : 14 Loss: 0.852\n",
            "Epoch : 15 Loss: 0.851\n",
            "Epoch : 16 Loss: 0.838\n",
            "Epoch : 17 Loss: 0.830\n",
            "Epoch : 18 Loss: 0.828\n",
            "Epoch : 19 Loss: 0.829\n",
            "Epoch : 20 Loss: 0.829\n",
            "Epoch : 21 Loss: 0.824\n",
            "Epoch : 22 Loss: 0.819\n",
            "Epoch : 23 Loss: 0.807\n",
            "Epoch : 24 Loss: 0.805\n",
            "Epoch : 25 Loss: 0.805\n",
            "Epoch : 26 Loss: 0.804\n",
            "Epoch : 27 Loss: 0.807\n",
            "Epoch : 28 Loss: 0.795\n",
            "Epoch : 29 Loss: 0.799\n",
            "Epoch : 30 Loss: 0.789\n",
            "Epoch : 31 Loss: 0.796\n",
            "Epoch : 32 Loss: 0.792\n",
            "Epoch : 33 Loss: 0.788\n",
            "Epoch : 34 Loss: 0.778\n",
            "Epoch : 35 Loss: 0.786\n",
            "Epoch : 36 Loss: 0.779\n",
            "Epoch : 37 Loss: 0.778\n",
            "Epoch : 38 Loss: 0.778\n",
            "Epoch : 39 Loss: 0.773\n",
            "Epoch : 40 Loss: 0.767\n",
            "Epoch : 41 Loss: 0.773\n",
            "Epoch : 42 Loss: 0.783\n",
            "Epoch : 43 Loss: 0.771\n",
            "Epoch : 44 Loss: 0.768\n",
            "Epoch : 45 Loss: 0.772\n",
            "Epoch : 46 Loss: 0.759\n",
            "Epoch : 47 Loss: 0.776\n",
            "Epoch : 48 Loss: 0.762\n",
            "Epoch : 49 Loss: 0.765\n",
            "Epoch : 50 Loss: 0.756\n",
            "Training Finished in 610.03 s\n"
          ]
        },
        {
          "output_type": "display_data",
          "data": {
            "text/plain": [
              "<Figure size 432x288 with 1 Axes>"
            ],
            "image/png": "[encoded data removed]"
          },
          "metadata": {
            "needs_background": "light"
          }
        },
        {
          "output_type": "stream",
          "name": "stdout",
          "text": [
            "Classification Accuracy: 65.62\n",
            "Epoch : 1 Loss: 0.664\n",
            "Epoch : 2 Loss: 0.631\n",
            "Epoch : 3 Loss: 0.622\n",
            "Epoch : 4 Loss: 0.618\n",
            "Epoch : 5 Loss: 0.613\n",
            "Epoch : 6 Loss: 0.610\n",
            "Epoch : 7 Loss: 0.608\n",
            "Epoch : 8 Loss: 0.606\n",
            "Epoch : 9 Loss: 0.604\n",
            "Epoch : 10 Loss: 0.603\n",
            "Epoch : 11 Loss: 0.601\n",
            "Epoch : 12 Loss: 0.600\n",
            "Epoch : 13 Loss: 0.598\n",
            "Epoch : 14 Loss: 0.597\n",
            "Epoch : 15 Loss: 0.596\n",
            "Epoch : 16 Loss: 0.595\n",
            "Epoch : 17 Loss: 0.594\n",
            "Epoch : 18 Loss: 0.594\n",
            "Epoch : 19 Loss: 0.593\n",
            "Epoch : 20 Loss: 0.592\n",
            "Epoch : 21 Loss: 0.591\n",
            "Epoch : 22 Loss: 0.591\n",
            "Epoch : 23 Loss: 0.590\n",
            "Epoch : 24 Loss: 0.589\n",
            "Epoch : 25 Loss: 0.589\n",
            "Epoch : 26 Loss: 0.588\n",
            "Epoch : 27 Loss: 0.587\n",
            "Epoch : 28 Loss: 0.587\n",
            "Epoch : 29 Loss: 0.587\n",
            "Epoch : 30 Loss: 0.586\n",
            "Epoch : 31 Loss: 0.586\n",
            "Epoch : 32 Loss: 0.585\n",
            "Epoch : 33 Loss: 0.585\n",
            "Epoch : 34 Loss: 0.584\n",
            "Epoch : 35 Loss: 0.585\n",
            "Epoch : 36 Loss: 0.583\n",
            "Epoch : 37 Loss: 0.582\n",
            "Epoch : 38 Loss: 0.582\n",
            "Epoch : 39 Loss: 0.582\n",
            "Epoch : 40 Loss: 0.582\n",
            "Epoch : 41 Loss: 0.582\n",
            "Epoch : 42 Loss: 0.581\n",
            "Epoch : 43 Loss: 0.581\n",
            "Epoch : 44 Loss: 0.581\n",
            "Epoch : 45 Loss: 0.580\n",
            "Epoch : 46 Loss: 0.581\n",
            "Epoch : 47 Loss: 0.580\n",
            "Epoch : 48 Loss: 0.580\n",
            "Epoch : 49 Loss: 0.579\n",
            "Epoch : 50 Loss: 0.579\n",
            "Training Finished in 608.49 s\n"
          ]
        },
        {
          "output_type": "display_data",
          "data": {
            "text/plain": [
              "<Figure size 432x288 with 1 Axes>"
            ],
            "image/png": "[encoded data removed]"
          },
          "metadata": {
            "needs_background": "light"
          }
        },
        {
          "output_type": "stream",
          "name": "stdout",
          "text": [
            "Classification Accuracy: 73.38\n",
            "Epoch : 1 Loss: 0.607\n",
            "Epoch : 2 Loss: 0.610\n",
            "Epoch : 3 Loss: 0.605\n",
            "Epoch : 4 Loss: 0.605\n",
            "Epoch : 5 Loss: 0.602\n",
            "Epoch : 6 Loss: 0.603\n",
            "Epoch : 7 Loss: 0.605\n",
            "Epoch : 8 Loss: 0.603\n",
            "Epoch : 9 Loss: 0.603\n",
            "Epoch : 10 Loss: 0.602\n",
            "Epoch : 11 Loss: 0.600\n",
            "Epoch : 12 Loss: 0.601\n",
            "Epoch : 13 Loss: 0.602\n",
            "Epoch : 14 Loss: 0.598\n",
            "Epoch : 15 Loss: 0.598\n",
            "Epoch : 16 Loss: 0.602\n",
            "Epoch : 17 Loss: 0.597\n",
            "Epoch : 18 Loss: 0.598\n",
            "Epoch : 19 Loss: 0.598\n",
            "Epoch : 20 Loss: 0.597\n",
            "Epoch : 21 Loss: 0.597\n",
            "Epoch : 22 Loss: 0.596\n",
            "Epoch : 23 Loss: 0.594\n",
            "Epoch : 24 Loss: 0.596\n",
            "Epoch : 25 Loss: 0.596\n",
            "Epoch : 26 Loss: 0.596\n",
            "Epoch : 27 Loss: 0.594\n",
            "Epoch : 28 Loss: 0.594\n",
            "Epoch : 29 Loss: 0.594\n",
            "Epoch : 30 Loss: 0.594\n",
            "Epoch : 31 Loss: 0.595\n",
            "Epoch : 32 Loss: 0.592\n",
            "Epoch : 33 Loss: 0.594\n",
            "Epoch : 34 Loss: 0.593\n",
            "Epoch : 35 Loss: 0.592\n",
            "Epoch : 36 Loss: 0.591\n",
            "Epoch : 37 Loss: 0.593\n",
            "Epoch : 38 Loss: 0.590\n",
            "Epoch : 39 Loss: 0.592\n",
            "Epoch : 40 Loss: 0.591\n",
            "Epoch : 41 Loss: 0.592\n",
            "Epoch : 42 Loss: 0.592\n",
            "Epoch : 43 Loss: 0.593\n",
            "Epoch : 44 Loss: 0.588\n",
            "Epoch : 45 Loss: 0.589\n",
            "Epoch : 46 Loss: 0.591\n",
            "Epoch : 47 Loss: 0.588\n",
            "Epoch : 48 Loss: 0.588\n",
            "Epoch : 49 Loss: 0.589\n",
            "Epoch : 50 Loss: 0.588\n",
            "Training Finished in 619.23 s\n"
          ]
        },
        {
          "output_type": "display_data",
          "data": {
            "text/plain": [
              "<Figure size 432x288 with 1 Axes>"
            ],
            "image/png": "[encoded data removed]"
          },
          "metadata": {
            "needs_background": "light"
          }
        },
        {
          "output_type": "stream",
          "name": "stdout",
          "text": [
            "Classification Accuracy: 73.42\n",
            "Epoch : 1 Loss: 0.567\n",
            "Epoch : 2 Loss: 0.566\n",
            "Epoch : 3 Loss: 0.565\n",
            "Epoch : 4 Loss: 0.565\n",
            "Epoch : 5 Loss: 0.564\n",
            "Epoch : 6 Loss: 0.564\n",
            "Epoch : 7 Loss: 0.564\n",
            "Epoch : 8 Loss: 0.564\n",
            "Epoch : 9 Loss: 0.564\n",
            "Epoch : 10 Loss: 0.564\n",
            "Epoch : 11 Loss: 0.564\n",
            "Epoch : 12 Loss: 0.563\n",
            "Epoch : 13 Loss: 0.563\n",
            "Epoch : 14 Loss: 0.563\n",
            "Epoch : 15 Loss: 0.563\n",
            "Epoch : 16 Loss: 0.562\n",
            "Epoch : 17 Loss: 0.563\n",
            "Epoch : 18 Loss: 0.562\n",
            "Epoch : 19 Loss: 0.564\n",
            "Epoch : 20 Loss: 0.563\n",
            "Epoch : 21 Loss: 0.563\n",
            "Epoch : 22 Loss: 0.562\n",
            "Epoch : 23 Loss: 0.563\n",
            "Epoch : 24 Loss: 0.563\n",
            "Epoch : 25 Loss: 0.562\n",
            "Epoch : 26 Loss: 0.562\n",
            "Epoch : 27 Loss: 0.561\n",
            "Epoch : 28 Loss: 0.561\n",
            "Epoch : 29 Loss: 0.562\n",
            "Epoch : 30 Loss: 0.562\n",
            "Epoch : 31 Loss: 0.562\n",
            "Epoch : 32 Loss: 0.562\n",
            "Epoch : 33 Loss: 0.561\n",
            "Epoch : 34 Loss: 0.561\n",
            "Epoch : 35 Loss: 0.561\n",
            "Epoch : 36 Loss: 0.561\n",
            "Epoch : 37 Loss: 0.561\n",
            "Epoch : 38 Loss: 0.560\n",
            "Epoch : 39 Loss: 0.561\n",
            "Epoch : 40 Loss: 0.561\n",
            "Epoch : 41 Loss: 0.560\n",
            "Epoch : 42 Loss: 0.561\n",
            "Epoch : 43 Loss: 0.562\n",
            "Epoch : 44 Loss: 0.561\n",
            "Epoch : 45 Loss: 0.561\n",
            "Epoch : 46 Loss: 0.560\n",
            "Epoch : 47 Loss: 0.561\n",
            "Epoch : 48 Loss: 0.560\n",
            "Epoch : 49 Loss: 0.560\n",
            "Epoch : 50 Loss: 0.560\n",
            "Training Finished in 596.16 s\n"
          ]
        },
        {
          "output_type": "display_data",
          "data": {
            "text/plain": [
              "<Figure size 432x288 with 1 Axes>"
            ],
            "image/png": "[encoded data removed]"
          },
          "metadata": {
            "needs_background": "light"
          }
        },
        {
          "output_type": "stream",
          "name": "stdout",
          "text": [
            "Classification Accuracy: 74.19\n"
          ]
        }
      ]
    },
    {
      "cell_type": "code",
      "source": [
        "run(cnn2_sigmoid,50)"
      ],
      "metadata": {
        "colab": {
          "base_uri": "https://localhost:8080/",
          "height": 1000
        },
        "id": "QOFyNhanJTYj",
        "outputId": "e5de33d1-7c9d-4166-9654-2d1d4a3c9e89"
      },
      "execution_count": 56,
      "outputs": [
        {
          "output_type": "stream",
          "name": "stdout",
          "text": [
            "Epoch : 1 Loss: 1.532\n",
            "Epoch : 2 Loss: 1.220\n",
            "Epoch : 3 Loss: 1.081\n",
            "Epoch : 4 Loss: 0.998\n",
            "Epoch : 5 Loss: 0.936\n",
            "Epoch : 6 Loss: 0.893\n",
            "Epoch : 7 Loss: 0.847\n",
            "Epoch : 8 Loss: 0.816\n",
            "Epoch : 9 Loss: 0.792\n",
            "Epoch : 10 Loss: 0.770\n",
            "Epoch : 11 Loss: 0.749\n",
            "Epoch : 12 Loss: 0.736\n",
            "Epoch : 13 Loss: 0.708\n",
            "Epoch : 14 Loss: 0.694\n",
            "Epoch : 15 Loss: 0.682\n",
            "Epoch : 16 Loss: 0.666\n",
            "Epoch : 17 Loss: 0.662\n",
            "Epoch : 18 Loss: 0.640\n",
            "Epoch : 19 Loss: 0.630\n",
            "Epoch : 20 Loss: 0.624\n",
            "Epoch : 21 Loss: 0.616\n",
            "Epoch : 22 Loss: 0.611\n",
            "Epoch : 23 Loss: 0.597\n",
            "Epoch : 24 Loss: 0.587\n",
            "Epoch : 25 Loss: 0.577\n",
            "Epoch : 26 Loss: 0.575\n",
            "Epoch : 27 Loss: 0.564\n",
            "Epoch : 28 Loss: 0.556\n",
            "Epoch : 29 Loss: 0.556\n",
            "Epoch : 30 Loss: 0.547\n",
            "Epoch : 31 Loss: 0.534\n",
            "Epoch : 32 Loss: 0.527\n",
            "Epoch : 33 Loss: 0.527\n",
            "Epoch : 34 Loss: 0.525\n",
            "Epoch : 35 Loss: 0.511\n",
            "Epoch : 36 Loss: 0.509\n",
            "Epoch : 37 Loss: 0.502\n",
            "Epoch : 38 Loss: 0.501\n",
            "Epoch : 39 Loss: 0.497\n",
            "Epoch : 40 Loss: 0.490\n",
            "Epoch : 41 Loss: 0.481\n",
            "Epoch : 42 Loss: 0.477\n",
            "Epoch : 43 Loss: 0.473\n",
            "Epoch : 44 Loss: 0.468\n",
            "Epoch : 45 Loss: 0.477\n",
            "Epoch : 46 Loss: 0.462\n",
            "Epoch : 47 Loss: 0.459\n",
            "Epoch : 48 Loss: 0.459\n",
            "Epoch : 49 Loss: 0.451\n",
            "Epoch : 50 Loss: 0.447\n",
            "Training Finished in 601.06 s\n"
          ]
        },
        {
          "output_type": "display_data",
          "data": {
            "text/plain": [
              "<Figure size 432x288 with 1 Axes>"
            ],
            "image/png": "[encoded data removed]"
          },
          "metadata": {
            "needs_background": "light"
          }
        },
        {
          "output_type": "stream",
          "name": "stdout",
          "text": [
            "Classification Accuracy: 79.83\n",
            "Epoch : 1 Loss: 0.362\n",
            "Epoch : 2 Loss: 0.341\n",
            "Epoch : 3 Loss: 0.336\n",
            "Epoch : 4 Loss: 0.333\n",
            "Epoch : 5 Loss: 0.331\n",
            "Epoch : 6 Loss: 0.329\n",
            "Epoch : 7 Loss: 0.328\n",
            "Epoch : 8 Loss: 0.327\n",
            "Epoch : 9 Loss: 0.325\n",
            "Epoch : 10 Loss: 0.324\n",
            "Epoch : 11 Loss: 0.324\n",
            "Epoch : 12 Loss: 0.323\n",
            "Epoch : 13 Loss: 0.322\n",
            "Epoch : 14 Loss: 0.321\n",
            "Epoch : 15 Loss: 0.321\n",
            "Epoch : 16 Loss: 0.320\n",
            "Epoch : 17 Loss: 0.320\n",
            "Epoch : 18 Loss: 0.319\n",
            "Epoch : 19 Loss: 0.318\n",
            "Epoch : 20 Loss: 0.318\n",
            "Epoch : 21 Loss: 0.317\n",
            "Epoch : 22 Loss: 0.317\n",
            "Epoch : 23 Loss: 0.316\n",
            "Epoch : 24 Loss: 0.317\n",
            "Epoch : 25 Loss: 0.316\n",
            "Epoch : 26 Loss: 0.315\n",
            "Epoch : 27 Loss: 0.315\n",
            "Epoch : 28 Loss: 0.314\n",
            "Epoch : 29 Loss: 0.314\n",
            "Epoch : 30 Loss: 0.314\n",
            "Epoch : 31 Loss: 0.314\n",
            "Epoch : 32 Loss: 0.313\n",
            "Epoch : 33 Loss: 0.313\n",
            "Epoch : 34 Loss: 0.313\n",
            "Epoch : 35 Loss: 0.313\n",
            "Epoch : 36 Loss: 0.312\n",
            "Epoch : 37 Loss: 0.312\n",
            "Epoch : 38 Loss: 0.312\n",
            "Epoch : 39 Loss: 0.311\n",
            "Epoch : 40 Loss: 0.311\n",
            "Epoch : 41 Loss: 0.311\n",
            "Epoch : 42 Loss: 0.310\n",
            "Epoch : 43 Loss: 0.310\n",
            "Epoch : 44 Loss: 0.310\n",
            "Epoch : 45 Loss: 0.310\n",
            "Epoch : 46 Loss: 0.310\n",
            "Epoch : 47 Loss: 0.309\n",
            "Epoch : 48 Loss: 0.309\n",
            "Epoch : 49 Loss: 0.309\n",
            "Epoch : 50 Loss: 0.309\n",
            "Training Finished in 598.53 s\n"
          ]
        },
        {
          "output_type": "display_data",
          "data": {
            "text/plain": [
              "<Figure size 432x288 with 1 Axes>"
            ],
            "image/png": "[encoded data removed]"
          },
          "metadata": {
            "needs_background": "light"
          }
        },
        {
          "output_type": "stream",
          "name": "stdout",
          "text": [
            "Classification Accuracy: 86.88\n",
            "Epoch : 1 Loss: 0.310\n",
            "Epoch : 2 Loss: 0.310\n",
            "Epoch : 3 Loss: 0.310\n",
            "Epoch : 4 Loss: 0.310\n",
            "Epoch : 5 Loss: 0.310\n",
            "Epoch : 6 Loss: 0.309\n",
            "Epoch : 7 Loss: 0.309\n",
            "Epoch : 8 Loss: 0.309\n",
            "Epoch : 9 Loss: 0.309\n",
            "Epoch : 10 Loss: 0.308\n",
            "Epoch : 11 Loss: 0.308\n",
            "Epoch : 12 Loss: 0.308\n",
            "Epoch : 13 Loss: 0.308\n",
            "Epoch : 14 Loss: 0.308\n",
            "Epoch : 15 Loss: 0.308\n",
            "Epoch : 16 Loss: 0.307\n",
            "Epoch : 17 Loss: 0.307\n",
            "Epoch : 18 Loss: 0.307\n",
            "Epoch : 19 Loss: 0.307\n",
            "Epoch : 20 Loss: 0.307\n",
            "Epoch : 21 Loss: 0.307\n",
            "Epoch : 22 Loss: 0.307\n",
            "Epoch : 23 Loss: 0.306\n",
            "Epoch : 24 Loss: 0.306\n",
            "Epoch : 25 Loss: 0.306\n",
            "Epoch : 26 Loss: 0.306\n",
            "Epoch : 27 Loss: 0.305\n",
            "Epoch : 28 Loss: 0.305\n",
            "Epoch : 29 Loss: 0.305\n",
            "Epoch : 30 Loss: 0.305\n",
            "Epoch : 31 Loss: 0.305\n",
            "Epoch : 32 Loss: 0.304\n",
            "Epoch : 33 Loss: 0.305\n",
            "Epoch : 34 Loss: 0.304\n",
            "Epoch : 35 Loss: 0.304\n",
            "Epoch : 36 Loss: 0.304\n",
            "Epoch : 37 Loss: 0.304\n",
            "Epoch : 38 Loss: 0.304\n",
            "Epoch : 39 Loss: 0.305\n",
            "Epoch : 40 Loss: 0.304\n",
            "Epoch : 41 Loss: 0.304\n",
            "Epoch : 42 Loss: 0.303\n",
            "Epoch : 43 Loss: 0.303\n",
            "Epoch : 44 Loss: 0.303\n",
            "Epoch : 45 Loss: 0.303\n",
            "Epoch : 46 Loss: 0.303\n",
            "Epoch : 47 Loss: 0.303\n",
            "Epoch : 48 Loss: 0.303\n",
            "Epoch : 49 Loss: 0.303\n",
            "Epoch : 50 Loss: 0.303\n",
            "Training Finished in 596.22 s\n"
          ]
        },
        {
          "output_type": "display_data",
          "data": {
            "text/plain": [
              "<Figure size 432x288 with 1 Axes>"
            ],
            "image/png": "[encoded data removed]"
          },
          "metadata": {
            "needs_background": "light"
          }
        },
        {
          "output_type": "stream",
          "name": "stdout",
          "text": [
            "Classification Accuracy: 87.14\n",
            "Epoch : 1 Loss: 0.299\n",
            "Epoch : 2 Loss: 0.299\n",
            "Epoch : 3 Loss: 0.299\n",
            "Epoch : 4 Loss: 0.299\n",
            "Epoch : 5 Loss: 0.299\n",
            "Epoch : 6 Loss: 0.299\n",
            "Epoch : 7 Loss: 0.299\n",
            "Epoch : 8 Loss: 0.299\n",
            "Epoch : 9 Loss: 0.299\n",
            "Epoch : 10 Loss: 0.299\n",
            "Epoch : 11 Loss: 0.299\n",
            "Epoch : 12 Loss: 0.298\n",
            "Epoch : 13 Loss: 0.298\n",
            "Epoch : 14 Loss: 0.299\n",
            "Epoch : 15 Loss: 0.299\n",
            "Epoch : 16 Loss: 0.298\n",
            "Epoch : 17 Loss: 0.299\n",
            "Epoch : 18 Loss: 0.298\n",
            "Epoch : 19 Loss: 0.299\n",
            "Epoch : 20 Loss: 0.298\n",
            "Epoch : 21 Loss: 0.299\n",
            "Epoch : 22 Loss: 0.299\n",
            "Epoch : 23 Loss: 0.298\n",
            "Epoch : 24 Loss: 0.298\n",
            "Epoch : 25 Loss: 0.298\n",
            "Epoch : 26 Loss: 0.298\n",
            "Epoch : 27 Loss: 0.298\n",
            "Epoch : 28 Loss: 0.298\n",
            "Epoch : 29 Loss: 0.298\n",
            "Epoch : 30 Loss: 0.298\n",
            "Epoch : 31 Loss: 0.299\n",
            "Epoch : 32 Loss: 0.298\n",
            "Epoch : 33 Loss: 0.298\n",
            "Epoch : 34 Loss: 0.298\n",
            "Epoch : 35 Loss: 0.298\n",
            "Epoch : 36 Loss: 0.298\n",
            "Epoch : 37 Loss: 0.298\n",
            "Epoch : 38 Loss: 0.298\n",
            "Epoch : 39 Loss: 0.298\n",
            "Epoch : 40 Loss: 0.298\n",
            "Epoch : 41 Loss: 0.298\n",
            "Epoch : 42 Loss: 0.297\n",
            "Epoch : 43 Loss: 0.298\n",
            "Epoch : 44 Loss: 0.298\n",
            "Epoch : 45 Loss: 0.298\n",
            "Epoch : 46 Loss: 0.298\n",
            "Epoch : 47 Loss: 0.298\n",
            "Epoch : 48 Loss: 0.297\n",
            "Epoch : 49 Loss: 0.297\n",
            "Epoch : 50 Loss: 0.298\n",
            "Training Finished in 604.55 s\n"
          ]
        },
        {
          "output_type": "display_data",
          "data": {
            "text/plain": [
              "<Figure size 432x288 with 1 Axes>"
            ],
            "image/png": "[encoded data removed]"
          },
          "metadata": {
            "needs_background": "light"
          }
        },
        {
          "output_type": "stream",
          "name": "stdout",
          "text": [
            "Classification Accuracy: 87.36\n"
          ]
        }
      ]
    },
    {
      "cell_type": "code",
      "source": [
        "run(cnn2_tanh,50)"
      ],
      "metadata": {
        "colab": {
          "base_uri": "https://localhost:8080/",
          "height": 1000
        },
        "id": "1wax6_5UJV1u",
        "outputId": "595c86c8-2aad-4c4a-f18e-afa7883e4ad0"
      },
      "execution_count": 57,
      "outputs": [
        {
          "output_type": "stream",
          "name": "stdout",
          "text": [
            "Epoch : 1 Loss: 1.269\n",
            "Epoch : 2 Loss: 1.056\n",
            "Epoch : 3 Loss: 1.013\n",
            "Epoch : 4 Loss: 0.959\n",
            "Epoch : 5 Loss: 0.947\n",
            "Epoch : 6 Loss: 0.936\n",
            "Epoch : 7 Loss: 0.929\n",
            "Epoch : 8 Loss: 0.912\n",
            "Epoch : 9 Loss: 0.916\n",
            "Epoch : 10 Loss: 0.924\n",
            "Epoch : 11 Loss: 0.916\n",
            "Epoch : 12 Loss: 0.905\n",
            "Epoch : 13 Loss: 0.921\n",
            "Epoch : 14 Loss: 0.915\n",
            "Epoch : 15 Loss: 0.919\n",
            "Epoch : 16 Loss: 0.920\n",
            "Epoch : 17 Loss: 0.905\n",
            "Epoch : 18 Loss: 0.915\n",
            "Epoch : 19 Loss: 0.926\n",
            "Epoch : 20 Loss: 0.929\n",
            "Epoch : 21 Loss: 0.921\n",
            "Epoch : 22 Loss: 0.911\n",
            "Epoch : 23 Loss: 0.919\n",
            "Epoch : 24 Loss: 0.926\n",
            "Epoch : 25 Loss: 0.927\n",
            "Epoch : 26 Loss: 0.919\n",
            "Epoch : 27 Loss: 0.915\n",
            "Epoch : 28 Loss: 0.924\n",
            "Epoch : 29 Loss: 0.914\n",
            "Epoch : 30 Loss: 0.939\n",
            "Epoch : 31 Loss: 0.944\n",
            "Epoch : 32 Loss: 0.945\n",
            "Epoch : 33 Loss: 0.938\n",
            "Epoch : 34 Loss: 0.938\n",
            "Epoch : 35 Loss: 0.930\n",
            "Epoch : 36 Loss: 0.942\n",
            "Epoch : 37 Loss: 0.933\n",
            "Epoch : 38 Loss: 0.941\n",
            "Epoch : 39 Loss: 0.938\n",
            "Epoch : 40 Loss: 0.953\n",
            "Epoch : 41 Loss: 0.932\n",
            "Epoch : 42 Loss: 0.931\n",
            "Epoch : 43 Loss: 0.940\n",
            "Epoch : 44 Loss: 0.956\n",
            "Epoch : 45 Loss: 0.953\n",
            "Epoch : 46 Loss: 0.950\n",
            "Epoch : 47 Loss: 0.956\n",
            "Epoch : 48 Loss: 0.946\n",
            "Epoch : 49 Loss: 0.939\n",
            "Epoch : 50 Loss: 0.960\n",
            "Training Finished in 608.81 s\n"
          ]
        },
        {
          "output_type": "display_data",
          "data": {
            "text/plain": [
              "<Figure size 432x288 with 1 Axes>"
            ],
            "image/png": "[encoded data removed]"
          },
          "metadata": {
            "needs_background": "light"
          }
        },
        {
          "output_type": "stream",
          "name": "stdout",
          "text": [
            "Classification Accuracy: 57.17\n",
            "Epoch : 1 Loss: 0.896\n",
            "Epoch : 2 Loss: 0.864\n",
            "Epoch : 3 Loss: 0.851\n",
            "Epoch : 4 Loss: 0.842\n",
            "Epoch : 5 Loss: 0.832\n",
            "Epoch : 6 Loss: 0.825\n",
            "Epoch : 7 Loss: 0.818\n",
            "Epoch : 8 Loss: 0.811\n",
            "Epoch : 9 Loss: 0.807\n",
            "Epoch : 10 Loss: 0.802\n",
            "Epoch : 11 Loss: 0.797\n",
            "Epoch : 12 Loss: 0.793\n",
            "Epoch : 13 Loss: 0.790\n",
            "Epoch : 14 Loss: 0.787\n",
            "Epoch : 15 Loss: 0.784\n",
            "Epoch : 16 Loss: 0.781\n",
            "Epoch : 17 Loss: 0.779\n",
            "Epoch : 18 Loss: 0.776\n",
            "Epoch : 19 Loss: 0.774\n",
            "Epoch : 20 Loss: 0.771\n",
            "Epoch : 21 Loss: 0.770\n",
            "Epoch : 22 Loss: 0.768\n",
            "Epoch : 23 Loss: 0.766\n",
            "Epoch : 24 Loss: 0.764\n",
            "Epoch : 25 Loss: 0.763\n",
            "Epoch : 26 Loss: 0.760\n",
            "Epoch : 27 Loss: 0.759\n",
            "Epoch : 28 Loss: 0.758\n",
            "Epoch : 29 Loss: 0.756\n",
            "Epoch : 30 Loss: 0.755\n",
            "Epoch : 31 Loss: 0.754\n",
            "Epoch : 32 Loss: 0.752\n",
            "Epoch : 33 Loss: 0.752\n",
            "Epoch : 34 Loss: 0.750\n",
            "Epoch : 35 Loss: 0.749\n",
            "Epoch : 36 Loss: 0.748\n",
            "Epoch : 37 Loss: 0.747\n",
            "Epoch : 38 Loss: 0.746\n",
            "Epoch : 39 Loss: 0.745\n",
            "Epoch : 40 Loss: 0.743\n",
            "Epoch : 41 Loss: 0.743\n",
            "Epoch : 42 Loss: 0.742\n",
            "Epoch : 43 Loss: 0.741\n",
            "Epoch : 44 Loss: 0.740\n",
            "Epoch : 45 Loss: 0.739\n",
            "Epoch : 46 Loss: 0.738\n",
            "Epoch : 47 Loss: 0.738\n",
            "Epoch : 48 Loss: 0.737\n",
            "Epoch : 49 Loss: 0.736\n",
            "Epoch : 50 Loss: 0.735\n",
            "Training Finished in 601.13 s\n"
          ]
        },
        {
          "output_type": "display_data",
          "data": {
            "text/plain": [
              "<Figure size 432x288 with 1 Axes>"
            ],
            "image/png": "[encoded data removed]"
          },
          "metadata": {
            "needs_background": "light"
          }
        },
        {
          "output_type": "stream",
          "name": "stdout",
          "text": [
            "Classification Accuracy: 66.54\n",
            "Epoch : 1 Loss: 0.822\n",
            "Epoch : 2 Loss: 0.850\n",
            "Epoch : 3 Loss: 0.835\n",
            "Epoch : 4 Loss: 0.845\n",
            "Epoch : 5 Loss: 0.836\n",
            "Epoch : 6 Loss: 0.839\n",
            "Epoch : 7 Loss: 0.839\n",
            "Epoch : 8 Loss: 0.841\n",
            "Epoch : 9 Loss: 0.839\n",
            "Epoch : 10 Loss: 0.829\n",
            "Epoch : 11 Loss: 0.832\n",
            "Epoch : 12 Loss: 0.829\n",
            "Epoch : 13 Loss: 0.830\n",
            "Epoch : 14 Loss: 0.826\n",
            "Epoch : 15 Loss: 0.824\n",
            "Epoch : 16 Loss: 0.828\n",
            "Epoch : 17 Loss: 0.833\n",
            "Epoch : 18 Loss: 0.825\n",
            "Epoch : 19 Loss: 0.826\n",
            "Epoch : 20 Loss: 0.827\n",
            "Epoch : 21 Loss: 0.833\n",
            "Epoch : 22 Loss: 0.829\n",
            "Epoch : 23 Loss: 0.824\n",
            "Epoch : 24 Loss: 0.822\n",
            "Epoch : 25 Loss: 0.818\n",
            "Epoch : 26 Loss: 0.825\n",
            "Epoch : 27 Loss: 0.827\n",
            "Epoch : 28 Loss: 0.817\n",
            "Epoch : 29 Loss: 0.819\n",
            "Epoch : 30 Loss: 0.814\n",
            "Epoch : 31 Loss: 0.822\n",
            "Epoch : 32 Loss: 0.817\n",
            "Epoch : 33 Loss: 0.817\n",
            "Epoch : 34 Loss: 0.814\n",
            "Epoch : 35 Loss: 0.815\n",
            "Epoch : 36 Loss: 0.820\n",
            "Epoch : 37 Loss: 0.814\n",
            "Epoch : 38 Loss: 0.813\n",
            "Epoch : 39 Loss: 0.812\n",
            "Epoch : 40 Loss: 0.811\n",
            "Epoch : 41 Loss: 0.812\n",
            "Epoch : 42 Loss: 0.811\n",
            "Epoch : 43 Loss: 0.813\n",
            "Epoch : 44 Loss: 0.813\n",
            "Epoch : 45 Loss: 0.808\n",
            "Epoch : 46 Loss: 0.809\n",
            "Epoch : 47 Loss: 0.808\n",
            "Epoch : 48 Loss: 0.808\n",
            "Epoch : 49 Loss: 0.806\n",
            "Epoch : 50 Loss: 0.816\n",
            "Training Finished in 602.33 s\n"
          ]
        },
        {
          "output_type": "display_data",
          "data": {
            "text/plain": [
              "<Figure size 432x288 with 1 Axes>"
            ],
            "image/png": "[encoded data removed]"
          },
          "metadata": {
            "needs_background": "light"
          }
        },
        {
          "output_type": "stream",
          "name": "stdout",
          "text": [
            "Classification Accuracy: 62.96\n",
            "Epoch : 1 Loss: 0.793\n",
            "Epoch : 2 Loss: 0.788\n",
            "Epoch : 3 Loss: 0.783\n",
            "Epoch : 4 Loss: 0.782\n",
            "Epoch : 5 Loss: 0.781\n",
            "Epoch : 6 Loss: 0.781\n",
            "Epoch : 7 Loss: 0.778\n",
            "Epoch : 8 Loss: 0.777\n",
            "Epoch : 9 Loss: 0.776\n",
            "Epoch : 10 Loss: 0.776\n",
            "Epoch : 11 Loss: 0.774\n",
            "Epoch : 12 Loss: 0.773\n",
            "Epoch : 13 Loss: 0.772\n",
            "Epoch : 14 Loss: 0.772\n",
            "Epoch : 15 Loss: 0.772\n",
            "Epoch : 16 Loss: 0.771\n",
            "Epoch : 17 Loss: 0.770\n",
            "Epoch : 18 Loss: 0.768\n",
            "Epoch : 19 Loss: 0.767\n",
            "Epoch : 20 Loss: 0.766\n",
            "Epoch : 21 Loss: 0.766\n",
            "Epoch : 22 Loss: 0.765\n",
            "Epoch : 23 Loss: 0.765\n",
            "Epoch : 24 Loss: 0.762\n",
            "Epoch : 25 Loss: 0.762\n",
            "Epoch : 26 Loss: 0.761\n",
            "Epoch : 27 Loss: 0.761\n",
            "Epoch : 28 Loss: 0.761\n",
            "Epoch : 29 Loss: 0.760\n",
            "Epoch : 30 Loss: 0.759\n",
            "Epoch : 31 Loss: 0.758\n",
            "Epoch : 32 Loss: 0.759\n",
            "Epoch : 33 Loss: 0.757\n",
            "Epoch : 34 Loss: 0.756\n",
            "Epoch : 35 Loss: 0.755\n",
            "Epoch : 36 Loss: 0.753\n",
            "Epoch : 37 Loss: 0.755\n",
            "Epoch : 38 Loss: 0.753\n",
            "Epoch : 39 Loss: 0.752\n",
            "Epoch : 40 Loss: 0.751\n",
            "Epoch : 41 Loss: 0.751\n",
            "Epoch : 42 Loss: 0.750\n",
            "Epoch : 43 Loss: 0.750\n",
            "Epoch : 44 Loss: 0.749\n",
            "Epoch : 45 Loss: 0.748\n",
            "Epoch : 46 Loss: 0.749\n",
            "Epoch : 47 Loss: 0.748\n",
            "Epoch : 48 Loss: 0.748\n",
            "Epoch : 49 Loss: 0.747\n",
            "Epoch : 50 Loss: 0.746\n",
            "Training Finished in 634.82 s\n"
          ]
        },
        {
          "output_type": "display_data",
          "data": {
            "text/plain": [
              "<Figure size 432x288 with 1 Axes>"
            ],
            "image/png": "[encoded data removed]"
          },
          "metadata": {
            "needs_background": "light"
          }
        },
        {
          "output_type": "stream",
          "name": "stdout",
          "text": [
            "Classification Accuracy: 64.99\n"
          ]
        }
      ]
    }
  ]
}